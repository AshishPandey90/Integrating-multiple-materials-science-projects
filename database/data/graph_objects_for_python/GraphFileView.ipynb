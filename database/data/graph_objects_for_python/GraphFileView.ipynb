{
 "cells": [
  {
   "cell_type": "code",
   "execution_count": null,
   "metadata": {},
   "outputs": [],
   "source": [
    "\"\"\"\n",
    "Graphfile viewer\n",
    "written by K. Hatakeyama-Sato\n",
    "25th March, 2020\n",
    "\n",
    "Scripts works with the following libraries\n",
    "networkx 2.4\n",
    "joblib 0.14.1\n",
    "\n",
    "\"\"\""
   ]
  },
  {
   "cell_type": "code",
   "execution_count": null,
   "metadata": {},
   "outputs": [],
   "source": [
    "import networkx as nx\n",
    "import joblib\n",
    "import matplotlib.pyplot as plt\n",
    "import random\n",
    "\n",
    "#function to visualize a graph\n",
    "def drawGraph(g,drawLabel=True,printNodes=False):\n",
    "    \"\"\"\n",
    "    g: graph object of networkX\n",
    "    drawLabel: draw node contents if True\n",
    "    printNodes: print node contents if True\n",
    "    \"\"\"\n",
    "    pos = nx.spring_layout(g, k=0.5)\n",
    "    plt.figure(3,figsize=(12,12)) \n",
    "\n",
    "    if drawLabel:\n",
    "        gDict={}\n",
    "        for node in g.nodes:\n",
    "            gDict[node]=g.nodes[node][\"label\"]\n",
    "\n",
    "        nx.draw(g,pos, with_labels = True,labels=gDict)\n",
    "    else:\n",
    "        nx.draw(g,pos, with_labels = True)\n",
    "\n",
    "\n",
    "    if printNodes:\n",
    "         for node in g.nodes:\n",
    "            print(node,\"  \",g.nodes[node][\"label\"])       "
   ]
  },
  {
   "cell_type": "code",
   "execution_count": null,
   "metadata": {},
   "outputs": [],
   "source": [
    "#select graph file\n",
    "filePath=\"bin/DB5.graphbin\"\n",
    "\n",
    "#graphs are saved as a list of graph objects\n",
    "graphList=joblib.load(filePath)"
   ]
  },
  {
   "cell_type": "code",
   "execution_count": null,
   "metadata": {},
   "outputs": [],
   "source": [
    "#randomly show graphs in the list\n",
    "idx=random.choice(range(len(graphList)))\n",
    "g=graphList[idx]\n",
    "drawGraph(g,drawLabel=True,printNodes=True)"
   ]
  },
  {
   "cell_type": "code",
   "execution_count": null,
   "metadata": {},
   "outputs": [],
   "source": []
  }
 ],
 "metadata": {
  "kernelspec": {
   "display_name": "Python 3",
   "language": "python",
   "name": "python3"
  },
  "language_info": {
   "codemirror_mode": {
    "name": "ipython",
    "version": 3
   },
   "file_extension": ".py",
   "mimetype": "text/x-python",
   "name": "python",
   "nbconvert_exporter": "python",
   "pygments_lexer": "ipython3",
   "version": "3.7.1"
  },
  "toc": {
   "base_numbering": 1,
   "nav_menu": {},
   "number_sections": true,
   "sideBar": true,
   "skip_h1_title": false,
   "title_cell": "Table of Contents",
   "title_sidebar": "Contents",
   "toc_cell": false,
   "toc_position": {},
   "toc_section_display": true,
   "toc_window_display": false
  }
 },
 "nbformat": 4,
 "nbformat_minor": 4
}
