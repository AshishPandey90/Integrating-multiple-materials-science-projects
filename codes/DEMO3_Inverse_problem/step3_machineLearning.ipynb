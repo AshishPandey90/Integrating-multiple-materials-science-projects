{
 "cells": [
  {
   "cell_type": "markdown",
   "metadata": {},
   "source": [
    "# machine learning\n",
    "- first parts are almost same as demo2"
   ]
  },
  {
   "cell_type": "code",
   "execution_count": 1,
   "metadata": {},
   "outputs": [
    {
     "name": "stderr",
     "output_type": "stream",
     "text": [
      "/home/kh/anaconda3/envs/chem/lib/python3.6/site-packages/chainer/_environment_check.py:73: UserWarning: \n",
      "--------------------------------------------------------------------------------\n",
      "CuPy (cupy) version 6.0.0 may not be compatible with this version of Chainer.\n",
      "Please consider installing the supported version by running:\n",
      "  $ pip install 'cupy>=7.2.0,<8.0.0'\n",
      "\n",
      "See the following page for more details:\n",
      "  https://docs-cupy.chainer.org/en/latest/install.html\n",
      "--------------------------------------------------------------------------------\n",
      "\n",
      "  requirement=requirement, help=help))\n"
     ]
    }
   ],
   "source": [
    "import sys\n",
    "import numpy as np\n",
    "import pandas as pd\n",
    "import joblib\n",
    "from tqdm import tqdm\n",
    "import random\n",
    "import matplotlib.pyplot as plt\n",
    "\n",
    "import chainer\n",
    "from chainer import cuda\n",
    "chainer.global_config.autotune = True \n",
    "\n",
    "sys.path.append(\"../MIGraph/GraphConv/\")\n",
    "sys.path.append(\"../MIGraph/Train/\")\n",
    "sys.path.append(\"../MIGraph/Encoders/\")\n",
    "\n",
    "from GGNN import GGNN\n",
    "from Config import Config\n",
    "from AutoParameterScaling import AutoParameterScaling\n",
    "from GraphNNPredictor import GraphNNPredictor,formatDataset,myConcat\n",
    "from PrepDataset import PrepDataset\n",
    "\n",
    "\n",
    "CF=Config()\n"
   ]
  },
  {
   "cell_type": "code",
   "execution_count": 2,
   "metadata": {},
   "outputs": [],
   "source": [
    "#load dataset\n",
    "alldataset= joblib.load(\"bin/traindataset.bin\")\n",
    "\n",
    "#remove graphs with only one node\n",
    "_,adj,_,_=zip(*alldataset)\n",
    "delIndexList=[i[0].shape for i in adj]\n",
    "delIndexList=[True if i[0]==1 else False for i in delIndexList]\n",
    "alldataset=[data for data,flg in zip(alldataset,delIndexList) if flg!=True]\n",
    "\n",
    "#for faster learning, minibatch was set to be 128\n",
    "miniBatch=128\n",
    "\n",
    "SPL_RATIO=0.8\n",
    "\n"
   ]
  },
  {
   "cell_type": "markdown",
   "metadata": {},
   "source": [
    "# utility funcs for ML"
   ]
  },
  {
   "cell_type": "code",
   "execution_count": 3,
   "metadata": {},
   "outputs": [],
   "source": [
    "from chainer.iterators import SerialIterator\n",
    "\n",
    "def prepDataset():\n",
    "    global trainDataset, testDataset\n",
    "    split_at = int(len(alldataset) * SPL_RATIO)\n",
    "\n",
    "    trainDataset, testDataset = chainer.datasets.split_dataset_random(alldataset, split_at)\n",
    "\n",
    "    global train_iter,test_iter\n",
    "    train_iter= SerialIterator(formatDataset(trainDataset), miniBatch)\n",
    "    test_iter = SerialIterator(formatDataset(testDataset),1,False,False)\n",
    "\n",
    "    print(\"test: \",len(testDataset))\n",
    "    print(\"train: \",len(trainDataset))\n",
    "\n",
    "    #get labels for prediction\n",
    "    _,_,_,learnLabels=zip(*alldataset)\n",
    "    #print(\"params:\", list(set(learnLabels)))"
   ]
  },
  {
   "cell_type": "code",
   "execution_count": 4,
   "metadata": {},
   "outputs": [],
   "source": [
    "#set up model\n",
    "from chainer import optimizers\n",
    "from chainer import training\n",
    "from chainer.training import extensions\n",
    "from chainer import serializers\n",
    "\n",
    "def train():\n",
    "    global ggnn\n",
    "    ggnn=GraphNNPredictor()\n",
    "\n",
    "    if CF.GPUMode:\n",
    "        cuda.get_device(CF.gpu_device).use()\n",
    "        ggnn.to_gpu(CF.gpu_device)\n",
    "        print(\"gpu mode\")\n",
    "\n",
    "    #optimizer\n",
    "    optimizer = optimizers.Adam()\n",
    "    optimizer.setup(ggnn)\n",
    "    updater = training.updaters.StandardUpdater(train_iter, optimizer, device=CF.gpu_device,converter=myConcat)\n",
    "\n",
    "    #trainer (early stopping can be used, but 100 epoch is good)\n",
    "    max_epoch = 100\n",
    "\n",
    "    #ML seems much faster without validation (at least, in author's environment)\n",
    "    trainer = training.Trainer(updater, (max_epoch, 'epoch'), out='res')\n",
    "    trainer.extend(extensions.LogReport())\n",
    "    #trainer.extend(extensions.Evaluator(test_iter, ggnn, device=CF.gpu_device))\n",
    "    trainer.extend(extensions.PrintReport(['epoch', 'main/loss', 'validation/main/loss',  'elapsed_time']))\n",
    "    trainer.extend(extensions.PlotReport(['main/loss','validation/main/loss'], x_key='epoch', file_name='loss.png'))\n",
    "\n",
    "    trainer.run()\n",
    "\n"
   ]
  },
  {
   "cell_type": "markdown",
   "metadata": {},
   "source": [
    "# train"
   ]
  },
  {
   "cell_type": "code",
   "execution_count": 5,
   "metadata": {
    "scrolled": true,
    "tags": [
     "outputPrepend",
     "outputPrepend"
    ]
   },
   "outputs": [
    {
     "name": "stdout",
     "output_type": "stream",
     "text": [
      "test:  5025\n",
      "train:  20097\n",
      "gpu mode\n",
      "epoch       main/loss   validation/main/loss  elapsed_time\n",
      "\u001b[J1           1.25161                           4.97678       \n",
      "\u001b[J2           0.921397                          9.51045       \n",
      "\u001b[J3           0.732633                          13.9884       \n",
      "\u001b[J4           0.629037                          18.4989       \n",
      "\u001b[J5           0.560148                          22.9833       \n",
      "\u001b[J6           0.523189                          27.4754       \n",
      "\u001b[J7           0.485724                          31.9911       \n",
      "\u001b[J8           0.46501                           36.4774       \n",
      "\u001b[J9           0.448139                          40.9755       \n",
      "\u001b[J10          0.425827                          45.4983       \n",
      "\u001b[J11          0.416259                          49.9782       \n",
      "\u001b[J12          0.402329                          54.4914       \n",
      "\u001b[J13          0.387912                          58.9772       \n",
      "\u001b[J14          0.379247                          63.4638       \n",
      "\u001b[J15          0.357612                          67.9796       \n",
      "\u001b[J16          0.353544                          72.4472       \n",
      "\u001b[J17          0.3502                            76.9216       \n",
      "\u001b[J18          0.342749                          81.4556       \n",
      "\u001b[J19          0.334903                          85.9611       \n",
      "\u001b[J20          0.321986                          90.4308       \n",
      "\u001b[J21          0.317427                          94.9644       \n",
      "\u001b[J22          0.31325                           99.455        \n",
      "\u001b[J23          0.317152                          103.932       \n",
      "\u001b[J24          0.308694                          108.396       \n",
      "\u001b[J25          0.30539                           112.922       \n",
      "\u001b[J26          0.309552                          117.406       \n",
      "\u001b[J27          0.294805                          121.888       \n",
      "\u001b[J28          0.291587                          126.415       \n",
      "\u001b[J29          0.281009                          130.905       \n",
      "\u001b[J30          0.283274                          135.397       \n",
      "\u001b[J31          0.283214                          139.922       \n",
      "\u001b[J32          0.275586                          144.404       \n",
      "\u001b[J33          0.273814                          148.88        \n",
      "\u001b[J34          0.27495                           153.364       \n",
      "\u001b[J35          0.268015                          157.893       \n",
      "\u001b[J36          0.26943                           162.403       \n",
      "\u001b[J37          0.264608                          166.894       \n",
      "\u001b[J38          0.263808                          171.431       \n",
      "\u001b[J39          0.2645                            175.908       \n",
      "\u001b[J40          0.261007                          180.407       \n",
      "\u001b[J41          0.251755                          184.9         \n",
      "\u001b[J42          0.248194                          189.448       \n",
      "\u001b[J43          0.248155                          193.938       \n",
      "\u001b[J44          0.250433                          198.423       \n",
      "\u001b[J45          0.236477                          202.913       \n",
      "\u001b[J46          0.243402                          207.459       \n",
      "\u001b[J47          0.235544                          211.934       \n",
      "\u001b[J48          0.239588                          216.421       \n",
      "\u001b[J49          0.236259                          220.901       \n",
      "\u001b[J50          0.23703                           225.42        \n",
      "\u001b[J51          0.223794                          229.887       \n",
      "\u001b[J52          0.227828                          234.374       \n",
      "\u001b[J53          0.232808                          238.852       \n",
      "\u001b[J54          0.228127                          243.382       \n",
      "\u001b[J55          0.227403                          247.857       \n",
      "\u001b[J56          0.222572                          252.331       \n",
      "\u001b[J57          0.21931                           256.816       \n",
      "\u001b[J58          0.221371                          261.365       \n",
      "\u001b[J59          0.216212                          265.835       \n",
      "\u001b[J60          0.220579                          270.323       \n",
      "\u001b[J61          0.214701                          274.795       \n",
      "\u001b[J62          0.21642                           279.329       \n",
      "\u001b[J63          0.209256                          283.8         \n",
      "\u001b[J64          0.205242                          288.281       \n",
      "\u001b[J65          0.210138                          292.752       \n",
      "\u001b[J66          0.206131                          297.231       \n",
      "\u001b[J67          0.206463                          301.782       \n",
      "\u001b[J68          0.205217                          306.271       \n",
      "\u001b[J69          0.20573                           310.764       \n",
      "\u001b[J70          0.21673                           315.227       \n",
      "\u001b[J71          0.204174                          319.762       \n",
      "\u001b[J72          0.202817                          324.239       \n",
      "\u001b[J73          0.197687                          328.708       \n",
      "\u001b[J74          0.197148                          333.185       \n",
      "\u001b[J75          0.195208                          337.66        \n",
      "\u001b[J76          0.193734                          342.194       \n",
      "\u001b[J77          0.19234                           346.659       \n",
      "\u001b[J78          0.199144                          351.145       \n",
      "\u001b[J79          0.196644                          355.636       \n",
      "\u001b[J80          0.192309                          360.118       \n",
      "\u001b[J81          0.189308                          364.69        \n",
      "\u001b[J82          0.195702                          369.161       \n",
      "\u001b[J83          0.207504                          373.659       \n",
      "\u001b[J84          0.200671                          378.159       \n",
      "\u001b[J85          0.191701                          382.624       \n",
      "\u001b[J86          0.184869                          387.19        \n",
      "\u001b[J87          0.181022                          391.657       \n",
      "\u001b[J88          0.190286                          396.135       \n",
      "\u001b[J89          0.183559                          400.604       \n",
      "\u001b[J90          0.181398                          405.072       \n",
      "\u001b[J91          0.18312                           409.532       \n",
      "\u001b[J92          0.18172                           414.082       \n",
      "\u001b[J93          0.185452                          418.572       \n",
      "\u001b[J94          0.189019                          423.042       \n",
      "\u001b[J95          0.182846                          427.512       \n",
      "\u001b[J96          0.182155                          432.014       \n",
      "\u001b[J97          0.189335                          436.575       \n",
      "\u001b[J98          0.180401                          441.055       \n",
      "\u001b[J99          0.182455                          445.54        \n",
      "\u001b[J100         0.184696                          450.02        \n"
     ]
    }
   ],
   "source": [
    "prepDataset()\n",
    "train()"
   ]
  },
  {
   "cell_type": "markdown",
   "metadata": {},
   "source": [
    "# check the predicted results (of training datasets)"
   ]
  },
  {
   "cell_type": "code",
   "execution_count": 6,
   "metadata": {},
   "outputs": [
    {
     "name": "stderr",
     "output_type": "stream",
     "text": [
      "100%|██████████| 158/158 [00:01<00:00, 117.20it/s]\n",
      "100%|██████████| 629/629 [00:05<00:00, 115.85it/s]\n"
     ]
    }
   ],
   "source": [
    "# let's check how words are predicted\n",
    "\n",
    "from AnalyzeUtility import AnalyzeUtility\n",
    "\n",
    "AutoSC=joblib.load(\"praparingGraphs/output/AutoSC.scaler\")\n",
    "PD= joblib.load(\"bin/PD.bin\")\n",
    "analUtil=AnalyzeUtility(AutoSC,ggnn)\n",
    "\n",
    "testYPred,testY=analUtil.predictByGGNN_batch(formatDataset(testDataset))\n",
    "trainYPred,trainY=analUtil.predictByGGNN_batch(formatDataset(trainDataset))\n",
    "\n",
    "targetDB=trainDataset\n",
    "YPred=trainYPred"
   ]
  },
  {
   "cell_type": "code",
   "execution_count": 7,
   "metadata": {},
   "outputs": [],
   "source": [
    "# from prediction (as a vetor), search the most similar word in a database\n",
    "def searchWord(targetvec):\n",
    "    cosSimList=np.dot(wordVecList,targetvec)/(np.linalg.norm(targetvec)* (np.linalg.norm(wordVecList,axis=1)))\n",
    "    predList=[[i,j] for i,j in zip(list(PD.ALE.OE.vecDict.keys()),cosSimList)]\n",
    "    predList.sort(key=lambda x: x[1],reverse=True)\n",
    "    return predList[0][0]\n",
    "    \n",
    "def cleanWord(w):\n",
    "    clList=[ \"[\",   \"]\" ,\"3\" ,\"10\",\"(\",\")\",\"-\",\"6\",\"0\" ]\n",
    "    w=w.replace(\"empty\",\" \")\n",
    "    for cl in clList:\n",
    "        w=w.replace(cl,\"\")\n",
    "    \n",
    "    w=\"\" if w ==\" \" else w\n",
    "    return w"
   ]
  },
  {
   "cell_type": "markdown",
   "metadata": {},
   "source": [
    "# let's see how words were predicted"
   ]
  },
  {
   "cell_type": "code",
   "execution_count": 8,
   "metadata": {},
   "outputs": [
    {
     "name": "stdout",
     "output_type": "stream",
     "text": [
      "12657 types of word problems\n"
     ]
    },
    {
     "data": {
      "text/html": [
       "<div>\n",
       "<style scoped>\n",
       "    .dataframe tbody tr th:only-of-type {\n",
       "        vertical-align: middle;\n",
       "    }\n",
       "\n",
       "    .dataframe tbody tr th {\n",
       "        vertical-align: top;\n",
       "    }\n",
       "\n",
       "    .dataframe thead th {\n",
       "        text-align: right;\n",
       "    }\n",
       "</style>\n",
       "<table border=\"1\" class=\"dataframe\">\n",
       "  <thead>\n",
       "    <tr style=\"text-align: right;\">\n",
       "      <th></th>\n",
       "      <th>0</th>\n",
       "      <th>1</th>\n",
       "    </tr>\n",
       "  </thead>\n",
       "  <tbody>\n",
       "    <tr>\n",
       "      <th>0</th>\n",
       "      <td>decomposition temperature</td>\n",
       "      <td>boiling temperature</td>\n",
       "    </tr>\n",
       "    <tr>\n",
       "      <th>1</th>\n",
       "      <td>absolute molar magnetic susceptibility</td>\n",
       "      <td>molar heat capacity</td>\n",
       "    </tr>\n",
       "    <tr>\n",
       "      <th>2</th>\n",
       "      <td>mol/l</td>\n",
       "      <td>kj/mol</td>\n",
       "    </tr>\n",
       "    <tr>\n",
       "      <th>3</th>\n",
       "      <td>pedot_pss_ph</td>\n",
       "      <td>pedot_pss_agfa gevaert</td>\n",
       "    </tr>\n",
       "    <tr>\n",
       "      <th>4</th>\n",
       "      <td>melting temperature</td>\n",
       "      <td>boiling temperature</td>\n",
       "    </tr>\n",
       "    <tr>\n",
       "      <th>...</th>\n",
       "      <td>...</td>\n",
       "      <td>...</td>\n",
       "    </tr>\n",
       "    <tr>\n",
       "      <th>1593</th>\n",
       "      <td>decomposition temperature</td>\n",
       "      <td>melting temperature</td>\n",
       "    </tr>\n",
       "    <tr>\n",
       "      <th>1594</th>\n",
       "      <td>absolute molar magnetic susceptibility</td>\n",
       "      <td>absolute standard enthalpy of formation</td>\n",
       "    </tr>\n",
       "    <tr>\n",
       "      <th>1595</th>\n",
       "      <td>refractive index</td>\n",
       "      <td>partition coefficient</td>\n",
       "    </tr>\n",
       "    <tr>\n",
       "      <th>1596</th>\n",
       "      <td>absolute molar magnetic susceptibility</td>\n",
       "      <td>absolute standard enthalpy of formation</td>\n",
       "    </tr>\n",
       "    <tr>\n",
       "      <th>1597</th>\n",
       "      <td>absolute molar magnetic susceptibility</td>\n",
       "      <td>heat capacity</td>\n",
       "    </tr>\n",
       "  </tbody>\n",
       "</table>\n",
       "<p>1598 rows × 2 columns</p>\n",
       "</div>"
      ],
      "text/plain": [
       "                                           0  \\\n",
       "0                  decomposition temperature   \n",
       "1     absolute molar magnetic susceptibility   \n",
       "2                                      mol/l   \n",
       "3                               pedot_pss_ph   \n",
       "4                        melting temperature   \n",
       "...                                      ...   \n",
       "1593               decomposition temperature   \n",
       "1594  absolute molar magnetic susceptibility   \n",
       "1595                        refractive index   \n",
       "1596  absolute molar magnetic susceptibility   \n",
       "1597  absolute molar magnetic susceptibility   \n",
       "\n",
       "                                            1  \n",
       "0                         boiling temperature  \n",
       "1                         molar heat capacity  \n",
       "2                                      kj/mol  \n",
       "3                      pedot_pss_agfa gevaert  \n",
       "4                         boiling temperature  \n",
       "...                                       ...  \n",
       "1593                      melting temperature  \n",
       "1594  absolute standard enthalpy of formation  \n",
       "1595                    partition coefficient  \n",
       "1596  absolute standard enthalpy of formation  \n",
       "1597                            heat capacity  \n",
       "\n",
       "[1598 rows x 2 columns]"
      ]
     },
     "execution_count": 8,
     "metadata": {},
     "output_type": "execute_result"
    }
   ],
   "source": [
    "_,_,_,ansList=zip(*targetDB)\n",
    "\n",
    "# there are three types of problems (compound, values, and others (words))\n",
    "typeList=[]\n",
    "for i in ansList:\n",
    "    if type(i) ==type(\"\"):\n",
    "        if i[:2]==\"C_\":\n",
    "            typeList.append(\"C\")\n",
    "        else:\n",
    "            typeList.append(\"O\")\n",
    "    else:\n",
    "        typeList.append(\"V\")\n",
    "\n",
    "\n",
    "# extract the cases of word prediction problems\n",
    "wordFilter=[True if i==\"O\" else False for i in typeList]\n",
    "wordVecList=list(PD.ALE.OE.vecDict.values())\n",
    "ansWordList=[ans for ans,filt in zip(ansList,wordFilter) if filt]\n",
    "predWordList=[searchWord(vec) for vec,filt in zip(YPred,wordFilter) if filt]\n",
    "\n",
    "predWordList=[cleanWord(i) for i in predWordList]\n",
    "ansWordList=[cleanWord(i) for i in ansWordList]\n",
    "print(len(predWordList), \"types of word problems\")\n",
    "\n",
    "wrongList=[(i,j) for i,j in zip(predWordList,ansWordList) if i!=j]\n",
    "\n",
    "#compare actual and predicted words\n",
    "pd.DataFrame(wrongList)\n"
   ]
  },
  {
   "cell_type": "markdown",
   "metadata": {},
   "source": [
    "# let's see how numeric values were predicted"
   ]
  },
  {
   "cell_type": "code",
   "execution_count": 9,
   "metadata": {},
   "outputs": [
    {
     "name": "stderr",
     "output_type": "stream",
     "text": [
      "20097it [00:00, 469397.12it/s]\n"
     ]
    },
    {
     "data": {
      "text/plain": [
       "[<matplotlib.lines.Line2D at 0x7f343626cd30>]"
      ]
     },
     "execution_count": 9,
     "metadata": {},
     "output_type": "execute_result"
    },
    {
     "data": {
      "image/png": "[encoded data removed]",
      "text/plain": [
       "<Figure size 432x288 with 1 Axes>"
      ]
     },
     "metadata": {
      "needs_background": "light"
     },
     "output_type": "display_data"
    }
   ],
   "source": [
    "valFilter=[True if i==\"V\" else False for i in typeList]\n",
    "ansValList=[ans for ans,filt in zip(ansList,valFilter) if filt]\n",
    "predValList=[np.mean(vec) for vec,filt in tqdm(zip(YPred,valFilter)) if filt]\n",
    "plt.plot(ansValList,predValList,\"o\")"
   ]
  },
  {
   "cell_type": "markdown",
   "metadata": {},
   "source": [
    "# let's see how compounds were predicted"
   ]
  },
  {
   "cell_type": "code",
   "execution_count": 10,
   "metadata": {},
   "outputs": [],
   "source": [
    "from rdkit import Chem\n",
    "from rdkit.Chem import AllChem\n",
    "\n",
    "compVecList=PD.ALE.CE.CompDat.compVecList\n",
    "\n",
    "# search most similar compound in a compound database\n",
    "def searchComp(targetvec, singleMode=True):\n",
    "    cosSimList=np.dot(compVecList,targetvec)/(np.linalg.norm(targetvec)* (np.linalg.norm(compVecList,axis=1)))\n",
    "    predList=[[i,j] for i,j in zip((PD.ALE.CE.CompDat.IDList),cosSimList)]\n",
    "    predList.sort(key=lambda x: x[1],reverse=True)\n",
    "\n",
    "    if singleMode:\n",
    "        return predList[0][0]\n",
    "    else:\n",
    "        return predList\n",
    "\n",
    "def cleanSMILES(sm):\n",
    "    m=Chem.MolFromSmiles(sm)\n",
    "    return Chem.MolToSmiles(m)\n"
   ]
  },
  {
   "cell_type": "code",
   "execution_count": 11,
   "metadata": {},
   "outputs": [
    {
     "data": {
      "text/html": [
       "<div>\n",
       "<style scoped>\n",
       "    .dataframe tbody tr th:only-of-type {\n",
       "        vertical-align: middle;\n",
       "    }\n",
       "\n",
       "    .dataframe tbody tr th {\n",
       "        vertical-align: top;\n",
       "    }\n",
       "\n",
       "    .dataframe thead th {\n",
       "        text-align: right;\n",
       "    }\n",
       "</style>\n",
       "<table border=\"1\" class=\"dataframe\">\n",
       "  <thead>\n",
       "    <tr style=\"text-align: right;\">\n",
       "      <th></th>\n",
       "      <th>pred</th>\n",
       "      <th>act</th>\n",
       "    </tr>\n",
       "  </thead>\n",
       "  <tbody>\n",
       "    <tr>\n",
       "      <th>0</th>\n",
       "      <td>C=C(NC(=O)[C@H](NC(=O)[C@@H](Cc1cnc[nH]1)NC(=O...</td>\n",
       "      <td>O=C1NC(=O)C(=O)C(=O)N1</td>\n",
       "    </tr>\n",
       "    <tr>\n",
       "      <th>1</th>\n",
       "      <td>Cc1cc(C(=O)O)cc(C(=O)O)c1</td>\n",
       "      <td>C[Si](C)(C)N[Si](C)(C)C</td>\n",
       "    </tr>\n",
       "    <tr>\n",
       "      <th>2</th>\n",
       "      <td>C=C(NC(=O)[C@H](NC(=O)[C@@H](Cc1cnc[nH]1)NC(=O...</td>\n",
       "      <td>ClC(Cl)(Cl)[Hg]c1ccccc1</td>\n",
       "    </tr>\n",
       "    <tr>\n",
       "      <th>3</th>\n",
       "      <td>O</td>\n",
       "      <td>O</td>\n",
       "    </tr>\n",
       "    <tr>\n",
       "      <th>4</th>\n",
       "      <td>[Al]</td>\n",
       "      <td>O</td>\n",
       "    </tr>\n",
       "    <tr>\n",
       "      <th>...</th>\n",
       "      <td>...</td>\n",
       "      <td>...</td>\n",
       "    </tr>\n",
       "    <tr>\n",
       "      <th>2160</th>\n",
       "      <td>O=S(=O)(O)c1ccc(C([Mg])C[Mg])cc1.[Mg]c1sc([Mg]...</td>\n",
       "      <td>O=S(=O)(O)c1ccc(C([Mg])C[Mg])cc1.[Mg]c1sc([Mg]...</td>\n",
       "    </tr>\n",
       "    <tr>\n",
       "      <th>2161</th>\n",
       "      <td>[In]</td>\n",
       "      <td>CNC(C)=O</td>\n",
       "    </tr>\n",
       "    <tr>\n",
       "      <th>2162</th>\n",
       "      <td>[Hg]</td>\n",
       "      <td>O</td>\n",
       "    </tr>\n",
       "    <tr>\n",
       "      <th>2163</th>\n",
       "      <td>[In]</td>\n",
       "      <td>CNC(C)=O</td>\n",
       "    </tr>\n",
       "    <tr>\n",
       "      <th>2164</th>\n",
       "      <td>O=[Os](=O)(=O)=O</td>\n",
       "      <td>N#N</td>\n",
       "    </tr>\n",
       "  </tbody>\n",
       "</table>\n",
       "<p>2165 rows × 2 columns</p>\n",
       "</div>"
      ],
      "text/plain": [
       "                                                   pred  \\\n",
       "0     C=C(NC(=O)[C@H](NC(=O)[C@@H](Cc1cnc[nH]1)NC(=O...   \n",
       "1                             Cc1cc(C(=O)O)cc(C(=O)O)c1   \n",
       "2     C=C(NC(=O)[C@H](NC(=O)[C@@H](Cc1cnc[nH]1)NC(=O...   \n",
       "3                                                     O   \n",
       "4                                                  [Al]   \n",
       "...                                                 ...   \n",
       "2160  O=S(=O)(O)c1ccc(C([Mg])C[Mg])cc1.[Mg]c1sc([Mg]...   \n",
       "2161                                               [In]   \n",
       "2162                                               [Hg]   \n",
       "2163                                               [In]   \n",
       "2164                                   O=[Os](=O)(=O)=O   \n",
       "\n",
       "                                                    act  \n",
       "0                                O=C1NC(=O)C(=O)C(=O)N1  \n",
       "1                               C[Si](C)(C)N[Si](C)(C)C  \n",
       "2                               ClC(Cl)(Cl)[Hg]c1ccccc1  \n",
       "3                                                     O  \n",
       "4                                                     O  \n",
       "...                                                 ...  \n",
       "2160  O=S(=O)(O)c1ccc(C([Mg])C[Mg])cc1.[Mg]c1sc([Mg]...  \n",
       "2161                                           CNC(C)=O  \n",
       "2162                                                  O  \n",
       "2163                                           CNC(C)=O  \n",
       "2164                                                N#N  \n",
       "\n",
       "[2165 rows x 2 columns]"
      ]
     },
     "execution_count": 11,
     "metadata": {},
     "output_type": "execute_result"
    }
   ],
   "source": [
    "compFilter=[True if i==\"C\" else False for i in typeList]\n",
    "\n",
    "ansCompList=[ans for ans,filt in zip(ansList,compFilter) if filt]\n",
    "ansCompList=[ans.replace(\"C_\",\"\") for ans in ansCompList]\n",
    "actSMILES=[cleanSMILES(PD.ALE.CE.CompDat.IDtoSMILES[i]) for i in ansCompList]\n",
    "\n",
    "predCompList=[searchComp(vec) for vec,filt in (zip(YPred,compFilter)) if filt]\n",
    "predSMILES=[cleanSMILES(PD.ALE.CE.CompDat.IDtoSMILES[i]) for i in predCompList]\n",
    "\n",
    "df=pd.DataFrame([predSMILES, actSMILES]).T\n",
    "df.columns=[\"pred\",\"act\"]\n",
    "df"
   ]
  },
  {
   "cell_type": "markdown",
   "metadata": {},
   "source": [
    "# let's try inverse problems...\n"
   ]
  },
  {
   "cell_type": "code",
   "execution_count": 12,
   "metadata": {},
   "outputs": [
    {
     "name": "stderr",
     "output_type": "stream",
     "text": [
      "100%|██████████| 1/1 [00:00<00:00, 114.04it/s]\n"
     ]
    }
   ],
   "source": [
    "#load dataset\n",
    "scdataset= joblib.load(\"bin/screendataset.bin\")\n",
    "scYPred,_=analUtil.predictByGGNN_batch(formatDataset(scdataset))"
   ]
  },
  {
   "cell_type": "markdown",
   "metadata": {},
   "source": [
    "# following would be the compounds which will give a conductivity of 10 (,100, 1000, or 10000) S/cm, and melting point of -15oC\n",
    "- cosine similarity was calculated between the predicted vector and those in the compound database\n",
    "- first three candidates are listed\n",
    "- maximum cosine similariy was only around 0.3, whereas ideally 1. To solve the problem, for instance,...\n",
    "    - we may need to prepare a larger compound database for searching the candidate compound\n",
    "    - we may need bigger databases\n",
    "    - we may need to improve models\n",
    "    - ..."
   ]
  },
  {
   "cell_type": "code",
   "execution_count": 13,
   "metadata": {},
   "outputs": [
    {
     "data": {
      "text/plain": [
       "[['PEDOT_PSS_PH1000', 0.48871901362867565],\n",
       " ['PEDOT_PSS_P', 0.48871901362867565],\n",
       " ['PEDOT_PSS_PH500', 0.48871901362867565]]"
      ]
     },
     "execution_count": 13,
     "metadata": {},
     "output_type": "execute_result"
    }
   ],
   "source": [
    "searchComp(scYPred[0],singleMode=False)[:3]"
   ]
  },
  {
   "cell_type": "code",
   "execution_count": 14,
   "metadata": {},
   "outputs": [
    {
     "data": {
      "text/plain": [
       "[['P048_P123', 0.39866490819500583],\n",
       " ['PEDOT_PSS_PH1000', 0.3737885158637679],\n",
       " ['PEDOT_PSS_P', 0.3737885158637679]]"
      ]
     },
     "execution_count": 14,
     "metadata": {},
     "output_type": "execute_result"
    }
   ],
   "source": [
    "searchComp(scYPred[1],singleMode=False)[:3]"
   ]
  },
  {
   "cell_type": "code",
   "execution_count": 15,
   "metadata": {},
   "outputs": [
    {
     "data": {
      "text/plain": [
       "[['PEDOT_PSS_PH1000', 0.7266188437839629],\n",
       " ['PEDOT_PSS_P', 0.7266188437839629],\n",
       " ['PEDOT_PSS_PH500', 0.7266188437839629]]"
      ]
     },
     "execution_count": 15,
     "metadata": {},
     "output_type": "execute_result"
    }
   ],
   "source": [
    "searchComp(scYPred[2],singleMode=False)[:3]"
   ]
  },
  {
   "cell_type": "code",
   "execution_count": 16,
   "metadata": {},
   "outputs": [
    {
     "data": {
      "text/plain": [
       "[['PEDOT_PSS_PH1000', 0.6111084739162488],\n",
       " ['PEDOT_PSS_P', 0.6111084739162488],\n",
       " ['PEDOT_PSS_PH500', 0.6111084739162488]]"
      ]
     },
     "execution_count": 16,
     "metadata": {},
     "output_type": "execute_result"
    }
   ],
   "source": [
    "searchComp(scYPred[3],singleMode=False)[:3]"
   ]
  }
 ],
 "metadata": {
  "kernelspec": {
   "display_name": "Python 3",
   "language": "python",
   "name": "python3"
  },
  "language_info": {
   "codemirror_mode": {
    "name": "ipython",
    "version": 3
   },
   "file_extension": ".py",
   "mimetype": "text/x-python",
   "name": "python",
   "nbconvert_exporter": "python",
   "pygments_lexer": "ipython3",
   "version": "3.6.10"
  },
  "toc": {
   "base_numbering": 1,
   "nav_menu": {},
   "number_sections": true,
   "sideBar": true,
   "skip_h1_title": false,
   "title_cell": "Table of Contents",
   "title_sidebar": "Contents",
   "toc_cell": false,
   "toc_position": {},
   "toc_section_display": true,
   "toc_window_display": false
  }
 },
 "nbformat": 4,
 "nbformat_minor": 2
}
