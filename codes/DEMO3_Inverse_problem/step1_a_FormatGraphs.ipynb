{
 "cells": [
  {
   "cell_type": "markdown",
   "metadata": {},
   "source": [
    "# DEMO3 Inverse problem solving\n",
    "## Most of the codes are the same as DEMO2, but slightly different.\n",
    "- This script will format graph databases\n",
    "\n"
   ]
  },
  {
   "cell_type": "code",
   "execution_count": 1,
   "metadata": {},
   "outputs": [],
   "source": [
    "import sys\n",
    "sys.path.append(\"../MIGraph/GraphConv/\")\n",
    "\n",
    "from ValueTransformer import ValueTransformer\n",
    "from ConvGraphScript import drawGraph,checkGraphList\n",
    "from AutoParameterScaling import AutoParameterScaling\n",
    "from ConvGraphmlToGraph import loadGraphCSV\n",
    "from PrepGraphScript import PrepGraphScript\n",
    "\n",
    "import glob\n",
    "import os\n",
    "import joblib\n",
    "from tqdm import tqdm\n",
    "import numpy as np\n",
    "import random\n",
    "\n",
    "os.chdir(\"praparingGraphs\")\n"
   ]
  },
  {
   "cell_type": "code",
   "execution_count": 2,
   "metadata": {},
   "outputs": [],
   "source": [
    "#load PEDOT-PSS files\n",
    "folderList=glob.glob(\"input/PEDOTPSS/*\")\n",
    "\n",
    "CSVPathList=[]\n",
    "graphPathList=[]\n",
    "\n",
    "for folder in folderList:\n",
    "    CSVPath=folder+\"/\"+os.path.basename(folder)+\".csv\"\n",
    "    graphPath=folder+\"/graph/\"\n",
    "    CSVPathList.append(CSVPath)\n",
    "    graphPathList.append(graphPath)\n"
   ]
  },
  {
   "cell_type": "markdown",
   "metadata": {},
   "source": [
    "# convert graph-type PEDOT-PSS file"
   ]
  },
  {
   "cell_type": "code",
   "execution_count": 3,
   "metadata": {},
   "outputs": [
    {
     "name": "stderr",
     "output_type": "stream",
     "text": [
      "  6%|▋         | 22/340 [00:00<00:01, 216.15it/s]"
     ]
    },
    {
     "name": "stdout",
     "output_type": "stream",
     "text": [
      "input/PEDOTPSS/20200220PEDOTProcess/20200220PEDOTProcess.csv\n"
     ]
    },
    {
     "name": "stderr",
     "output_type": "stream",
     "text": [
      "100%|██████████| 340/340 [00:01<00:00, 303.51it/s]\n",
      "100%|██████████| 340/340 [00:00<00:00, 647.43it/s]\n"
     ]
    },
    {
     "name": "stdout",
     "output_type": "stream",
     "text": [
      "checking graph values...\n",
      "check done\n",
      "saving... temporary/20200220PEDOTProcess.csv.graphbin\n"
     ]
    }
   ],
   "source": [
    "VT=ValueTransformer()\n",
    "for CSVPath,graphPath in zip(CSVPathList,graphPathList):\n",
    "    print(CSVPath)\n",
    "    gList=loadGraphCSV(CSVPath,graphPath)\n",
    "\n",
    "    #convert unit etc\n",
    "    gList=VT.convertGraphList(gList)\n",
    "    checkGraphList(gList)\n",
    "    \n",
    "    filename=os.path.basename(CSVPath)\n",
    "    outname=\"temporary/\"+filename+\".graphbin\"\n",
    "    print(\"saving...\", outname)\n",
    "    joblib.dump(gList,outname,compress=3)\n",
    "    "
   ]
  },
  {
   "cell_type": "code",
   "execution_count": 4,
   "metadata": {
    "scrolled": true
   },
   "outputs": [
    {
     "name": "stderr",
     "output_type": "stream",
     "text": [
      "0it [00:00, ?it/s]\n",
      "  0%|          | 0/1370 [00:00<?, ?it/s]\u001b[A\n",
      "  1%|          | 10/1370 [00:00<00:14, 95.00it/s]\u001b[A"
     ]
    },
    {
     "name": "stdout",
     "output_type": "stream",
     "text": [
      "1\n",
      "0 file:  input/additional_simple_comps/20190520wikipedia.csv\n"
     ]
    },
    {
     "name": "stderr",
     "output_type": "stream",
     "text": [
      "\n",
      "  1%|▏         | 19/1370 [00:00<00:14, 92.86it/s]\u001b[A\n",
      "  2%|▏         | 29/1370 [00:00<00:14, 93.57it/s]\u001b[A\n",
      "  3%|▎         | 39/1370 [00:00<00:14, 93.49it/s]\u001b[A\n",
      "  4%|▎         | 48/1370 [00:00<00:14, 92.06it/s]\u001b[A\n",
      "  4%|▍         | 58/1370 [00:00<00:14, 92.96it/s]\u001b[A\n",
      "  5%|▍         | 68/1370 [00:00<00:13, 93.44it/s]\u001b[A\n",
      "  6%|▌         | 78/1370 [00:00<00:13, 93.92it/s]\u001b[A\n",
      "  6%|▋         | 88/1370 [00:00<00:13, 94.29it/s]\u001b[A\n",
      "  7%|▋         | 98/1370 [00:01<00:13, 94.09it/s]\u001b[A\n",
      "  8%|▊         | 108/1370 [00:01<00:13, 93.68it/s]\u001b[A\n",
      "  9%|▊         | 118/1370 [00:01<00:13, 93.37it/s]\u001b[A\n",
      "  9%|▉         | 128/1370 [00:01<00:13, 93.86it/s]\u001b[A\n",
      " 10%|█         | 138/1370 [00:01<00:13, 94.15it/s]\u001b[A\n",
      " 11%|█         | 148/1370 [00:01<00:14, 86.35it/s]\u001b[A\n",
      " 12%|█▏        | 158/1370 [00:01<00:13, 88.81it/s]\u001b[A\n",
      " 12%|█▏        | 168/1370 [00:01<00:13, 90.61it/s]\u001b[A\n",
      " 13%|█▎        | 178/1370 [00:01<00:12, 91.91it/s]\u001b[A\n",
      " 14%|█▎        | 188/1370 [00:02<00:12, 92.78it/s]\u001b[A\n",
      " 14%|█▍        | 198/1370 [00:02<00:12, 93.49it/s]\u001b[A\n",
      " 15%|█▌        | 208/1370 [00:02<00:12, 93.73it/s]\u001b[A\n",
      " 16%|█▌        | 218/1370 [00:02<00:12, 93.94it/s]\u001b[A\n",
      " 17%|█▋        | 228/1370 [00:02<00:12, 94.28it/s]\u001b[A\n",
      " 17%|█▋        | 238/1370 [00:02<00:11, 94.48it/s]\u001b[A\n",
      " 18%|█▊        | 248/1370 [00:02<00:12, 92.99it/s]\u001b[A\n",
      " 19%|█▉        | 258/1370 [00:02<00:11, 93.67it/s]\u001b[A\n",
      " 20%|█▉        | 268/1370 [00:02<00:11, 94.07it/s]\u001b[A\n",
      " 20%|██        | 278/1370 [00:02<00:11, 93.52it/s]\u001b[A\n",
      " 21%|██        | 288/1370 [00:03<00:11, 93.36it/s]\u001b[A\n",
      " 22%|██▏       | 298/1370 [00:03<00:11, 93.07it/s]\u001b[A\n",
      " 22%|██▏       | 308/1370 [00:03<00:11, 93.68it/s]\u001b[A\n",
      " 23%|██▎       | 318/1370 [00:03<00:11, 94.16it/s]\u001b[A\n",
      " 24%|██▍       | 328/1370 [00:03<00:11, 94.42it/s]\u001b[A\n",
      " 25%|██▍       | 338/1370 [00:03<00:10, 94.32it/s]\u001b[A\n",
      " 25%|██▌       | 348/1370 [00:03<00:10, 94.61it/s]\u001b[A\n",
      " 26%|██▌       | 358/1370 [00:03<00:10, 94.75it/s]\u001b[A\n",
      " 27%|██▋       | 368/1370 [00:03<00:10, 94.84it/s]\u001b[A\n",
      " 28%|██▊       | 378/1370 [00:04<00:10, 94.93it/s]\u001b[A\n",
      " 28%|██▊       | 388/1370 [00:04<00:10, 94.29it/s]\u001b[A\n",
      " 29%|██▉       | 398/1370 [00:04<00:10, 94.40it/s]\u001b[A\n",
      " 30%|██▉       | 408/1370 [00:04<00:10, 94.64it/s]\u001b[A\n",
      " 31%|███       | 418/1370 [00:04<00:10, 94.79it/s]\u001b[A\n",
      " 31%|███       | 428/1370 [00:04<00:09, 94.86it/s]\u001b[A\n",
      " 32%|███▏      | 438/1370 [00:04<00:09, 94.89it/s]\u001b[A\n",
      " 33%|███▎      | 448/1370 [00:04<00:09, 94.91it/s]\u001b[A\n",
      " 33%|███▎      | 458/1370 [00:04<00:09, 93.21it/s]\u001b[A\n",
      " 34%|███▍      | 468/1370 [00:05<00:09, 92.99it/s]\u001b[A\n",
      " 35%|███▍      | 478/1370 [00:05<00:09, 93.64it/s]\u001b[A\n",
      " 36%|███▌      | 488/1370 [00:05<00:09, 93.90it/s]\u001b[A\n",
      " 36%|███▋      | 498/1370 [00:05<00:09, 94.03it/s]\u001b[A\n",
      " 37%|███▋      | 508/1370 [00:05<00:09, 94.35it/s]\u001b[A\n",
      " 38%|███▊      | 518/1370 [00:05<00:09, 94.64it/s]\u001b[A\n",
      " 39%|███▊      | 528/1370 [00:05<00:08, 94.21it/s]\u001b[A\n",
      " 39%|███▉      | 538/1370 [00:05<00:08, 94.23it/s]\u001b[A\n",
      " 40%|████      | 548/1370 [00:05<00:08, 93.73it/s]\u001b[A\n",
      " 41%|████      | 558/1370 [00:05<00:08, 93.46it/s]\u001b[A\n",
      " 41%|████▏     | 568/1370 [00:06<00:08, 94.01it/s]\u001b[A\n",
      " 42%|████▏     | 578/1370 [00:06<00:08, 94.07it/s]\u001b[A\n",
      " 43%|████▎     | 588/1370 [00:06<00:08, 94.45it/s]\u001b[A\n",
      " 44%|████▎     | 598/1370 [00:06<00:08, 94.17it/s]\u001b[A\n",
      " 44%|████▍     | 608/1370 [00:06<00:08, 94.55it/s]\u001b[A\n",
      " 45%|████▌     | 618/1370 [00:06<00:09, 78.26it/s]\u001b[A\n",
      " 46%|████▌     | 628/1370 [00:06<00:08, 82.65it/s]\u001b[A\n",
      " 47%|████▋     | 638/1370 [00:06<00:08, 86.05it/s]\u001b[A\n",
      " 47%|████▋     | 648/1370 [00:06<00:08, 88.60it/s]\u001b[A\n",
      " 48%|████▊     | 658/1370 [00:07<00:07, 90.45it/s]\u001b[A\n",
      " 49%|████▉     | 668/1370 [00:07<00:07, 91.80it/s]\u001b[A\n",
      " 49%|████▉     | 678/1370 [00:07<00:07, 92.20it/s]\u001b[A\n",
      " 50%|█████     | 688/1370 [00:07<00:07, 92.80it/s]\u001b[A\n",
      " 51%|█████     | 698/1370 [00:07<00:07, 93.53it/s]\u001b[A\n",
      " 52%|█████▏    | 708/1370 [00:07<00:07, 94.02it/s]\u001b[A\n",
      " 52%|█████▏    | 718/1370 [00:07<00:06, 94.36it/s]\u001b[A\n",
      " 53%|█████▎    | 728/1370 [00:07<00:06, 93.81it/s]\u001b[A\n",
      " 54%|█████▍    | 738/1370 [00:07<00:06, 93.58it/s]\u001b[A\n",
      " 55%|█████▍    | 748/1370 [00:08<00:06, 93.89it/s]\u001b[A\n",
      " 55%|█████▌    | 758/1370 [00:08<00:06, 93.73it/s]\u001b[A\n",
      " 56%|█████▌    | 768/1370 [00:08<00:06, 94.21it/s]\u001b[A\n",
      " 57%|█████▋    | 778/1370 [00:08<00:06, 93.93it/s]\u001b[A\n",
      " 58%|█████▊    | 788/1370 [00:08<00:06, 93.57it/s]\u001b[A\n",
      " 58%|█████▊    | 798/1370 [00:08<00:06, 94.06it/s]\u001b[A\n",
      " 59%|█████▉    | 808/1370 [00:08<00:05, 94.36it/s]\u001b[A\n",
      " 60%|█████▉    | 818/1370 [00:08<00:05, 94.46it/s]\u001b[A\n",
      " 60%|██████    | 828/1370 [00:08<00:05, 94.59it/s]\u001b[A\n",
      " 61%|██████    | 838/1370 [00:09<00:05, 94.73it/s]\u001b[A\n",
      " 62%|██████▏   | 848/1370 [00:09<00:05, 94.56it/s]\u001b[A\n",
      " 63%|██████▎   | 858/1370 [00:09<00:05, 93.92it/s]\u001b[A\n",
      " 63%|██████▎   | 868/1370 [00:09<00:05, 93.26it/s]\u001b[A\n",
      " 64%|██████▍   | 878/1370 [00:09<00:05, 93.80it/s]\u001b[A\n",
      " 65%|██████▍   | 888/1370 [00:09<00:05, 94.18it/s]\u001b[A\n",
      " 66%|██████▌   | 898/1370 [00:09<00:05, 94.30it/s]\u001b[A\n",
      " 66%|██████▋   | 908/1370 [00:09<00:04, 94.33it/s]\u001b[A\n",
      " 67%|██████▋   | 918/1370 [00:09<00:04, 94.30it/s]\u001b[A\n",
      " 68%|██████▊   | 928/1370 [00:09<00:04, 94.58it/s]\u001b[A\n",
      " 68%|██████▊   | 938/1370 [00:10<00:04, 94.76it/s]\u001b[A\n",
      " 69%|██████▉   | 948/1370 [00:10<00:04, 94.97it/s]\u001b[A\n",
      " 70%|██████▉   | 958/1370 [00:10<00:04, 95.14it/s]\u001b[A\n",
      " 71%|███████   | 968/1370 [00:10<00:04, 89.39it/s]\u001b[A\n",
      " 71%|███████▏  | 978/1370 [00:10<00:04, 90.64it/s]\u001b[A\n",
      " 72%|███████▏  | 988/1370 [00:10<00:04, 92.07it/s]\u001b[A\n",
      " 73%|███████▎  | 998/1370 [00:10<00:03, 93.03it/s]\u001b[A\n",
      " 74%|███████▎  | 1008/1370 [00:10<00:03, 93.64it/s]\u001b[A\n",
      " 74%|███████▍  | 1018/1370 [00:10<00:03, 94.19it/s]\u001b[A\n",
      " 75%|███████▌  | 1028/1370 [00:11<00:03, 94.45it/s]\u001b[A\n",
      " 76%|███████▌  | 1038/1370 [00:11<00:03, 94.75it/s]\u001b[A\n",
      " 76%|███████▋  | 1048/1370 [00:11<00:03, 94.43it/s]\u001b[A\n",
      " 77%|███████▋  | 1058/1370 [00:11<00:03, 94.77it/s]\u001b[A\n",
      " 78%|███████▊  | 1068/1370 [00:11<00:03, 88.70it/s]\u001b[A\n",
      " 79%|███████▊  | 1077/1370 [00:11<00:03, 73.93it/s]\u001b[A\n",
      " 79%|███████▉  | 1087/1370 [00:11<00:03, 79.08it/s]\u001b[A\n",
      " 80%|████████  | 1096/1370 [00:11<00:03, 81.99it/s]\u001b[A\n",
      " 81%|████████  | 1106/1370 [00:11<00:03, 85.67it/s]\u001b[A\n",
      " 81%|████████▏ | 1115/1370 [00:12<00:02, 86.48it/s]\u001b[A\n",
      " 82%|████████▏ | 1125/1370 [00:12<00:02, 89.02it/s]\u001b[A\n",
      " 83%|████████▎ | 1135/1370 [00:12<00:02, 90.89it/s]\u001b[A\n",
      " 84%|████████▎ | 1145/1370 [00:12<00:02, 92.25it/s]\u001b[A\n",
      " 84%|████████▍ | 1155/1370 [00:12<00:02, 93.21it/s]\u001b[A\n",
      " 85%|████████▌ | 1165/1370 [00:12<00:02, 92.61it/s]\u001b[A\n",
      " 86%|████████▌ | 1175/1370 [00:12<00:02, 93.49it/s]\u001b[A\n",
      " 86%|████████▋ | 1185/1370 [00:12<00:01, 93.89it/s]\u001b[A\n",
      " 87%|████████▋ | 1195/1370 [00:12<00:01, 94.30it/s]\u001b[A\n",
      " 88%|████████▊ | 1205/1370 [00:13<00:01, 94.69it/s]\u001b[A\n",
      " 89%|████████▊ | 1215/1370 [00:13<00:01, 94.09it/s]\u001b[A\n",
      " 89%|████████▉ | 1225/1370 [00:13<00:01, 94.56it/s]\u001b[A\n",
      " 90%|█████████ | 1235/1370 [00:13<00:01, 94.89it/s]\u001b[A\n",
      " 91%|█████████ | 1245/1370 [00:13<00:01, 95.14it/s]\u001b[A\n",
      " 92%|█████████▏| 1255/1370 [00:13<00:01, 95.29it/s]\u001b[A\n",
      " 92%|█████████▏| 1265/1370 [00:13<00:01, 94.99it/s]\u001b[A\n",
      " 93%|█████████▎| 1275/1370 [00:13<00:01, 91.85it/s]\u001b[A\n",
      " 94%|█████████▍| 1285/1370 [00:13<00:00, 93.08it/s]\u001b[A\n",
      " 95%|█████████▍| 1295/1370 [00:13<00:00, 93.10it/s]\u001b[A\n",
      " 95%|█████████▌| 1305/1370 [00:14<00:00, 94.01it/s]\u001b[A\n",
      " 96%|█████████▌| 1315/1370 [00:14<00:00, 92.65it/s]\u001b[A\n",
      " 97%|█████████▋| 1325/1370 [00:14<00:00, 93.50it/s]\u001b[A\n",
      " 97%|█████████▋| 1335/1370 [00:14<00:00, 94.20it/s]\u001b[A\n",
      " 98%|█████████▊| 1345/1370 [00:14<00:00, 93.96it/s]\u001b[A\n",
      " 99%|█████████▉| 1355/1370 [00:14<00:00, 94.54it/s]\u001b[A\n",
      "100%|██████████| 1370/1370 [00:14<00:00, 92.78it/s]\u001b[A\n"
     ]
    },
    {
     "name": "stdout",
     "output_type": "stream",
     "text": [
      "checking graph values...\n",
      "caution: too large val:  3090.0 graph No.:  1\n",
      "caution: too large val:  2400.0 graph No.:  2\n",
      "caution: too large val:  2797.0 graph No.:  4\n",
      "caution: too large val:  2865.0 graph No.:  5\n",
      "caution: too large val:  2160.0 graph No.:  8\n",
      "caution: too large val:  1890.0 graph No.:  9\n",
      "caution: too large val:  1872.0 graph No.:  12\n",
      "caution: too large val:  2400.0 graph No.:  18\n",
      "caution: too large val:  3500.0 graph No.:  18\n",
      "caution: too large val:  1910.0 graph No.:  21\n",
      "caution: too large val:  1955.0 graph No.:  30\n",
      "caution: too large val:  2315.0 graph No.:  33\n",
      "caution: too large val:  4200.0 graph No.:  33\n",
      "caution: too large val:  2183.0 graph No.:  34\n",
      "caution: too large val:  3760.0 graph No.:  34\n",
      "caution: too large val:  1900.0 graph No.:  38\n",
      "caution: too large val:  1748.0 graph No.:  39\n",
      "caution: too large val:  1680.0 graph No.:  40\n",
      "caution: too large val:  1950.0 graph No.:  43\n",
      "caution: too large val:  2050.0 graph No.:  43\n",
      "caution: too large val:  1800.0 graph No.:  50\n",
      "caution: too large val:  3414.0 graph No.:  56\n",
      "caution: too large val:  1923.0 graph No.:  57\n",
      "caution: too large val:  2000.0 graph No.:  57\n",
      "caution: too large val:  2715.0 graph No.:  58\n",
      "caution: too large val:  4300.0 graph No.:  58\n",
      "caution: too large val:  1945.0 graph No.:  64\n",
      "caution: too large val:  2360.0 graph No.:  68\n",
      "caution: too large val:  1740.0 graph No.:  69\n",
      "caution: too large val:  2435.0 graph No.:  72\n",
      "caution: too large val:  4000.0 graph No.:  72\n",
      "caution: too large val:  3160.0 graph No.:  83\n",
      "caution: too large val:  4820.0 graph No.:  83\n",
      "caution: too large val:  1750.0 graph No.:  88\n",
      "caution: too large val:  1835.0 graph No.:  90\n",
      "caution: too large val:  1600.0 graph No.:  125\n",
      "caution: too large val:  2072.0 graph No.:  134\n",
      "caution: too large val:  2977.0 graph No.:  134\n",
      "caution: too large val:  1820.0 graph No.:  135\n",
      "caution: too large val:  1727.0 graph No.:  136\n",
      "caution: too large val:  1740.0 graph No.:  151\n",
      "caution: too large val:  2235.0 graph No.:  168\n",
      "caution: too large val:  1750.0 graph No.:  170\n",
      "caution: too large val:  2200.0 graph No.:  179\n",
      "caution: too large val:  2517.0 graph No.:  179\n",
      "caution: too large val:  1506.0 graph No.:  183\n",
      "caution: too large val:  2260.0 graph No.:  188\n",
      "caution: too large val:  2710.0 graph No.:  191\n",
      "caution: too large val:  1542.0 graph No.:  197\n",
      "caution: too large val:  2000.0 graph No.:  215\n",
      "caution: too large val:  2033.0 graph No.:  229\n",
      "caution: too large val:  3440.0 graph No.:  230\n",
      "caution: too large val:  1561.43 graph No.:  235\n",
      "caution: too large val:  2525.0 graph No.:  237\n",
      "caution: too large val:  1704.0 graph No.:  239\n",
      "caution: too large val:  3166.0 graph No.:  241\n",
      "caution: too large val:  1502.0 graph No.:  249\n",
      "caution: too large val:  1702.0 graph No.:  282\n",
      "caution: too large val:  1880.0 graph No.:  282\n",
      "caution: too large val:  2966.0 graph No.:  465\n",
      "caution: too large val:  2852.0 graph No.:  903\n",
      "caution: too large val:  3600.0 graph No.:  903\n",
      "caution: too large val:  1575.0 graph No.:  909\n",
      "caution: too large val:  1689.0 graph No.:  936\n",
      "caution: too large val:  1935.0 graph No.:  937\n",
      "caution: too large val:  3850.0 graph No.:  940\n",
      "caution: too large val:  3880.0 graph No.:  940\n",
      "caution: too large val:  4780.0 graph No.:  940\n",
      "caution: too large val:  1630.0 graph No.:  945\n",
      "caution: too large val:  1800.0 graph No.:  945\n",
      "caution: too large val:  1583.0 graph No.:  970\n",
      "caution: too large val:  1907.0 graph No.:  1017\n",
      "caution: too large val:  2671.0 graph No.:  1017\n",
      "caution: too large val:  1539.0 graph No.:  1041\n",
      "caution: too large val:  1565.0 graph No.:  1041\n",
      "caution: too large val:  1933.0 graph No.:  1042\n",
      "caution: too large val:  2490.0 graph No.:  1050\n",
      "caution: too large val:  3980.0 graph No.:  1050\n",
      "caution: too large val:  3532.0 graph No.:  1051\n",
      "caution: too large val:  3540.0 graph No.:  1051\n",
      "caution: too large val:  5100.0 graph No.:  1051\n",
      "caution: too large val:  2250.0 graph No.:  1053\n",
      "caution: too large val:  2016.0 graph No.:  1089\n",
      "caution: too large val:  3900.0 graph No.:  1095\n",
      "caution: too large val:  2830.0 graph No.:  1108\n",
      "caution: too large val:  1900.0 graph No.:  1305\n",
      "caution: too large val:  2375.0 graph No.:  1306\n",
      "caution: too large val:  2300.0 graph No.:  1361\n",
      "caution: too large val:  2360.0 graph No.:  1362\n",
      "caution: too large val:  1610.0 graph No.:  1363\n",
      "caution: too large val:  2000.0 graph No.:  1369\n",
      "check done\n",
      "saving... temporary/20190520wikipedia.graphbin\n"
     ]
    },
    {
     "name": "stderr",
     "output_type": "stream",
     "text": [
      "1it [00:15, 15.23s/it]\n"
     ]
    }
   ],
   "source": [
    "#convert wikipedia file\n",
    "#you can add other compound csv files in additional_simple_comps\n",
    "csvList=glob.glob(\"input/additional_simple_comps/*.csv\")\n",
    "print(len(csvList))\n",
    "sorted(csvList)\n",
    "\n",
    "\n",
    "def conv(filename):\n",
    "    pgs=PrepGraphScript(filename)\n",
    "    pgs.doFragment=False\n",
    "    pgs.prapareGraphList(numOfMaxFragments=2000)\n",
    "\n",
    "for num,filename in tqdm(enumerate(csvList)):\n",
    "    print(num, \"file: \",filename)\n",
    "    conv(filename)"
   ]
  },
  {
   "cell_type": "markdown",
   "metadata": {},
   "source": [
    "# combine compound databases"
   ]
  },
  {
   "cell_type": "code",
   "execution_count": 5,
   "metadata": {},
   "outputs": [
    {
     "name": "stdout",
     "output_type": "stream",
     "text": [
      "['input/20190520wikipedia.csv.gz', 'input/20190521wikidata.csv.gz', 'input/20200220PEDOTProcess_comp.csv']\n"
     ]
    }
   ],
   "source": [
    "import pandas as pd\n",
    "#in the case of this PEDOT-PSS_txt project, only one compound file is available, but normally many)\n",
    "allCompundsPath=\"output/allcompounds.csv.gz\"\n",
    "\n",
    "csvList=glob.glob(\"../convCSVtoGraph/temp/output/*.csv\")\n",
    "csvList2=glob.glob(\"input/*.csv\")\n",
    "csvgzList=glob.glob(\"input/*.csv.gz\")\n",
    "\n",
    "compPathList=sorted(list(set(csvList)|set(csvgzList)|set(csvList2)))\n",
    "print(compPathList)"
   ]
  },
  {
   "cell_type": "code",
   "execution_count": 6,
   "metadata": {},
   "outputs": [
    {
     "name": "stdout",
     "output_type": "stream",
     "text": [
      "input/20190520wikipedia.csv.gz\n",
      "input/20190521wikidata.csv.gz\n",
      "input/20200220PEDOTProcess_comp.csv\n"
     ]
    },
    {
     "data": {
      "text/html": [
       "<div>\n",
       "<style scoped>\n",
       "    .dataframe tbody tr th:only-of-type {\n",
       "        vertical-align: middle;\n",
       "    }\n",
       "\n",
       "    .dataframe tbody tr th {\n",
       "        vertical-align: top;\n",
       "    }\n",
       "\n",
       "    .dataframe thead th {\n",
       "        text-align: right;\n",
       "    }\n",
       "</style>\n",
       "<table border=\"1\" class=\"dataframe\">\n",
       "  <thead>\n",
       "    <tr style=\"text-align: right;\">\n",
       "      <th></th>\n",
       "      <th>index</th>\n",
       "      <th>ID</th>\n",
       "      <th>SMILES</th>\n",
       "    </tr>\n",
       "  </thead>\n",
       "  <tbody>\n",
       "    <tr>\n",
       "      <th>0</th>\n",
       "      <td>0</td>\n",
       "      <td>[Cd]=[Te]</td>\n",
       "      <td>[Cd]=[Te]</td>\n",
       "    </tr>\n",
       "    <tr>\n",
       "      <th>1</th>\n",
       "      <td>1</td>\n",
       "      <td>N#[Ta]</td>\n",
       "      <td>N#[Ta]</td>\n",
       "    </tr>\n",
       "    <tr>\n",
       "      <th>2</th>\n",
       "      <td>2</td>\n",
       "      <td>B#[Re]#B</td>\n",
       "      <td>B#[Re]#B</td>\n",
       "    </tr>\n",
       "    <tr>\n",
       "      <th>3</th>\n",
       "      <td>3</td>\n",
       "      <td>NaN</td>\n",
       "      <td>NaN</td>\n",
       "    </tr>\n",
       "    <tr>\n",
       "      <th>4</th>\n",
       "      <td>5</td>\n",
       "      <td>[O-2].[O-2].[U+4]</td>\n",
       "      <td>[O-2].[O-2].[U+4]</td>\n",
       "    </tr>\n",
       "    <tr>\n",
       "      <th>...</th>\n",
       "      <td>...</td>\n",
       "      <td>...</td>\n",
       "      <td>...</td>\n",
       "    </tr>\n",
       "    <tr>\n",
       "      <th>2467</th>\n",
       "      <td>52</td>\n",
       "      <td>DBU</td>\n",
       "      <td>N\\2=C1\\N(CCCCC1)CCC/2</td>\n",
       "    </tr>\n",
       "    <tr>\n",
       "      <th>2468</th>\n",
       "      <td>53</td>\n",
       "      <td>HCl</td>\n",
       "      <td>[H]Cl</td>\n",
       "    </tr>\n",
       "    <tr>\n",
       "      <th>2469</th>\n",
       "      <td>54</td>\n",
       "      <td>HCOOH</td>\n",
       "      <td>O=CO</td>\n",
       "    </tr>\n",
       "    <tr>\n",
       "      <th>2470</th>\n",
       "      <td>55</td>\n",
       "      <td>NaOH</td>\n",
       "      <td>[Na+].[OH-]</td>\n",
       "    </tr>\n",
       "    <tr>\n",
       "      <th>2471</th>\n",
       "      <td>56</td>\n",
       "      <td>P048_P123</td>\n",
       "      <td>[Mg]OCC[Mg].[Mg]OCC(C)[Mg]</td>\n",
       "    </tr>\n",
       "  </tbody>\n",
       "</table>\n",
       "<p>2472 rows × 3 columns</p>\n",
       "</div>"
      ],
      "text/plain": [
       "      index                 ID                      SMILES\n",
       "0         0          [Cd]=[Te]                   [Cd]=[Te]\n",
       "1         1             N#[Ta]                      N#[Ta]\n",
       "2         2           B#[Re]#B                    B#[Re]#B\n",
       "3         3                NaN                         NaN\n",
       "4         5  [O-2].[O-2].[U+4]           [O-2].[O-2].[U+4]\n",
       "...     ...                ...                         ...\n",
       "2467     52                DBU       N\\2=C1\\N(CCCCC1)CCC/2\n",
       "2468     53                HCl                       [H]Cl\n",
       "2469     54              HCOOH                        O=CO\n",
       "2470     55               NaOH                 [Na+].[OH-]\n",
       "2471     56          P048_P123  [Mg]OCC[Mg].[Mg]OCC(C)[Mg]\n",
       "\n",
       "[2472 rows x 3 columns]"
      ]
     },
     "execution_count": 6,
     "metadata": {},
     "output_type": "execute_result"
    }
   ],
   "source": [
    "CompColumns=[\"ID\",\"SMILES\"]\n",
    "\n",
    "for num,filePath in enumerate(compPathList):\n",
    "    print(filePath)\n",
    "    if num==0:\n",
    "        df=pd.read_csv(filePath)[CompColumns]\n",
    "    else:\n",
    "        df2=pd.read_csv(filePath)[CompColumns]\n",
    "        df=pd.concat([df,df2],axis=0)\n",
    "        \n",
    "df=df.drop_duplicates(\"ID\")\n",
    "df=df[CompColumns].reset_index()\n",
    "df.to_csv(allCompundsPath,index=False)\n",
    "df"
   ]
  },
  {
   "cell_type": "markdown",
   "metadata": {},
   "source": [
    "# delete broken compounds and their graphs"
   ]
  },
  {
   "cell_type": "code",
   "execution_count": 7,
   "metadata": {},
   "outputs": [
    {
     "name": "stderr",
     "output_type": "stream",
     "text": [
      "\r",
      "  0%|          | 0/2 [00:00<?, ?it/s]"
     ]
    },
    {
     "name": "stdout",
     "output_type": "stream",
     "text": [
      "error ['B#[Re]#B']\n",
      "error ['B#[Re]#B']\n",
      "error ['[Se]=[Pt]=[Se]']\n",
      "error ['[O-][As]=O.[K+]']\n",
      "error ['[O-]S(=O)(=O)[O-].[Hg+].[Hg+]']\n",
      "error ['[Ag]O[Ag].O=[Ag]O[Ag]=O']\n",
      "error ['[O-2]=[Ce+4]=[O-2]']\n",
      "error ['[Rh+4].[O-2].[O-2]']\n",
      "error ['O=[Ru]=O']\n",
      "error ['[U+4].[F-].[F-].[F-].[F-]']\n",
      "error ['[U+4].[F-].[F-].[F-].[F-]']\n",
      "error ['[U+4].[F-].[F-].[F-].[F-]']\n",
      "error ['F[Nd](F)F']\n",
      "error ['[Te]=[Ge]=[Te]']\n",
      "error ['Cl[Pt]Cl']\n",
      "error ['[I-].[I-].[I-].[BiH3+3]']\n",
      "error ['[Ba]=O']\n",
      "error ['[Ga]=[Te].[Ga]=[Te].[Te]']\n",
      "error ['Cl[Hg]Cl']\n",
      "error ['F[U](F)(F)(F)(F)F']\n",
      "error ['[Ti+]#[C-]']\n",
      "error ['[N+](=O)([O-])[O-].[N+](=O)([O-])[O-].[Pb+2]']\n",
      "error ['[S-2].[S-2].[Zr+4]']\n",
      "error ['S1[As]3S[As]2S[As](S[As]1S2)S3']\n",
      "error ['[O-][Ge](=O)[O-].[Na+].[Na+]']\n",
      "error ['[O-][Ge](=O)[O-].[Na+].[Na+]']\n",
      "error ['[Mn+2].[O-]S([O-])(=O)=O']\n",
      "error ['[Cd+2].[Cd+2].[Cd+2].[AsH6-3].[AsH6-3]']\n",
      "error ['[O-][Mn](=O)(=O)[O-].[K+].[K+]']\n",
      "error ['[Na+].[O-]S(=O)(=O)O']\n",
      "error ['[SiH3][SiH3]']\n",
      "error ['[K+].[K+].[K+].[O-]P([O-])([O-])=O']\n",
      "error ['[K+].[O-]Cl(=O)(=O)=O']\n",
      "error ['[F-].[K+]']\n",
      "error ['FBr(F)(F)(F)F']\n",
      "error ['N(=N[O-])[O-].[Na+].[Na+]']\n",
      "error ['O=P(O)(O)OC[C@H]3O[C@@H](n2cnc1c(ncnc12)N)[C@H](O)[C@@H]3O']\n",
      "error ['c1[nH]c2c(n1)c(=O)nc(n2)N']\n",
      "error ['O=O.[Na+]']\n",
      "error ['[K+].o=c(-c(=o)o1)o[Fe-3]123(oc(-c(=o)o2)=o)oc(-c(=o)o3)=o.[K+].[K+]']\n",
      "error ['F[Si-2](F)(F)(F)(F)F.[NH4+].[NH4+]']\n",
      "error ['[Na+].o=c(-c(=o)o1)o[Fe-3]123(oc(-c(=o)o2)=o)oc(-c(=o)o3)=o.[Na+].[Na+]']\n",
      "error ['[Na+].[Na+].[Na+].[PH6-3]']\n",
      "error ['[Na+].[Na+].[Na+].[PH6-3]']\n",
      "error ['c1ccc2c(c1)C(=O)OC23c4ccc(cc4Oc5c3ccc(c5)O)O']\n",
      "error ['Clc2cc(ccc2Oc1cc(C(=O)O)c([N+]([O-])=O)cc1)C(F)(F)F']\n",
      "error ['C(C(Cl)(Cl)Cl)Cl']\n",
      "error ['O=C(O)O.N.N']\n",
      "error ['[Na+].[Na+].N#C[Fe-4](C#N)(C#N)(C#N)(C#N)C#N.[Na+].[Na+]']\n",
      "error ['FCl(=O)(=O)=O']\n",
      "error ['O=C2OC([C@@]1(C)[C@@H]3CC[C@@H](O3)[C@]12C)=O']\n",
      "error ['ClCC(Cl)CCl']\n",
      "error ['OC(\\\\C=C/C=C\\\\C(O)=O)=O']\n",
      "error ['C(=O)(NN)NN']\n",
      "error ['C1N2CN3CN1CN(C2)C3']\n",
      "error ['CCNC1=NC(=NC(=N1)Cl)NC(C)(C)C#N']\n",
      "error ['c1ccc2c(c1)cc3ccc4cccc5c4c3c2cc5']\n",
      "error ['ClC(=O)c1ccccc1']\n",
      "error ['C1=CC=C(C=C1)P(=C=P(C2=CC=CC=C2)(C3=CC=CC=C3)C4=CC=CC=C4)(C5=CC=CC=C5)C6=CC=CC=C6']\n",
      "error ['N1(C(CCC1)=O)[C@@H](C*)*']\n",
      "error ['O=P(Oc1ccccc1)(Oc2ccccc2)Oc3ccccc3']\n",
      "error ['COC(=O)C#CC(=O)OC']\n",
      "error ['O=C1OCCC1']\n",
      "error ['CCCCCCCCC(=O)NCC1=CC(=C(C=C1)O)OC']\n",
      "error ['O[C@@H]2C[C@]\\\\13OO[C@]4(/C=C/1)[C@@H]([C@]3(CC2)C)CC[C@]5(C)[C@@H]([C@@H](/C=C/[C@H](C)C(C)C)C)CC[C@@H]45']\n",
      "error ['o=c([o-])C.[N+H4]']\n",
      "error ['CCCCCCCCCCCCOS(=O)([O-])=O.[Na+]']\n",
      "error ['CCCCCC1=CC=CC(=O)O1']\n",
      "error ['NCCN1CCNCC1']\n",
      "error ['CC1=CC(=O)[C@@H]2C[C@H]1C2(C)C']\n",
      "error ['CCCCCC(CCC)COC(=O)c1ccccc1C(=O)OCC(CCC)CCCCC']\n",
      "error ['CC(C)c1ccc(C)cc1O']\n",
      "error ['O=S(=O)(O)c1c(cc(cc1[N+]([O-])=O)[N+]([O-])=O)[N+]([O-])=O']\n",
      "error ['O=C(OCC)C']\n",
      "error ['B1([H]3)(C2CCCC1CCC2)[H]B34C2CCCC4CCC2']\n",
      "error ['O=CC=C(C)CCC=C(C)C']\n",
      "error ['O(CC)[Si](OCC)(C)C']\n",
      "error ['C=C(C)C#N']\n",
      "error ['CCCCCCCCCCCCCCC=C']\n",
      "error ['CCCC[Li]']\n",
      "error ['[H]1[BH]2[H][BH]3[BH]24[BH]1[H][BH]4[H]3']\n",
      "error ['[OH2][Re](=O)(=O)(=O)([OH2])O[Re](=O)(=O)=O']\n",
      "error ['O=[Cl]=O']\n",
      "error ['[N+](=O)([O-])[O-].[Ag+]']\n",
      "error ['FCl(F)(F)(F)F']\n",
      "error ['C#C']\n",
      "error ['c1=cc=c[cH+]c=c1']\n",
      "error ['CC(=S)C']\n",
      "error ['CC(=S)C']\n",
      "error ['CC(=S)C']\n",
      "error ['CC(=S)C']\n",
      "error ['CC(=S)C']\n",
      "error ['s1cccc1c2sc(cc2)c3sccc3']\n",
      "error ['s1cccc1c2sc(cc2)c3sccc3']\n",
      "error ['CC/C=C\\\\CC1CCCC(=O)O1']\n",
      "error ['CC/C=C\\\\CC1CCCC(=O)O1']\n",
      "error ['CC/C=C\\\\CC1CCCC(=O)O1']\n",
      "error ['CC/C=C\\\\CC1CCCC(=O)O1']\n",
      "error ['CC/C=C\\\\CC1CCCC(=O)O1']\n",
      "error ['C/C=C(/CC[C@@H](C)[C@H]1CC[C@@H]2[C@@]1(CC[C@H]3[C@H]2CC=C4[C@@]3(CC[C@@H](C4)O)C)C)\\\\C(C)C']\n",
      "error ['C/C=C(/CC[C@@H](C)[C@H]1CC[C@@H]2[C@@]1(CC[C@H]3[C@H]2CC=C4[C@@]3(CC[C@@H](C4)O)C)C)\\\\C(C)C']\n",
      "error ['C/C=C(/CC[C@@H](C)[C@H]1CC[C@@H]2[C@@]1(CC[C@H]3[C@H]2CC=C4[C@@]3(CC[C@@H](C4)O)C)C)\\\\C(C)C']\n",
      "error ['C/C=C(/CC[C@@H](C)[C@H]1CC[C@@H]2[C@@]1(CC[C@H]3[C@H]2CC=C4[C@@]3(CC[C@@H](C4)O)C)C)\\\\C(C)C']\n",
      "error ['C/C=C(/CC[C@@H](C)[C@H]1CC[C@@H]2[C@@]1(CC[C@H]3[C@H]2CC=C4[C@@]3(CC[C@@H](C4)O)C)C)\\\\C(C)C']\n",
      "error ['C/C=C(/CC[C@@H](C)[C@H]1CC[C@@H]2[C@@]1(CC[C@H]3[C@H]2CC=C4[C@@]3(CC[C@@H](C4)O)C)C)\\\\C(C)C']\n",
      "error ['C/C=C(/CC[C@@H](C)[C@H]1CC[C@@H]2[C@@]1(CC[C@H]3[C@H]2CC=C4[C@@]3(CC[C@@H](C4)O)C)C)\\\\C(C)C']\n",
      "error ['C/C=C(/CC[C@@H](C)[C@H]1CC[C@@H]2[C@@]1(CC[C@H]3[C@H]2CC=C4[C@@]3(CC[C@@H](C4)O)C)C)\\\\C(C)C']\n",
      "error ['C/C=C(/CC[C@@H](C)[C@H]1CC[C@@H]2[C@@]1(CC[C@H]3[C@H]2CC=C4[C@@]3(CC[C@@H](C4)O)C)C)\\\\C(C)C']\n",
      "error ['C/C=C(/CC[C@@H](C)[C@H]1CC[C@@H]2[C@@]1(CC[C@H]3[C@H]2CC=C4[C@@]3(CC[C@@H](C4)O)C)C)\\\\C(C)C']\n",
      "error ['[Zr](O[Cl](=O)(=O)=O)(O[Cl](=O)(=O)=O)(O[Cl](=O)(=O)=O)O[Cl](=O)(=O)=O']\n",
      "error ['[Zr](O[Cl](=O)(=O)=O)(O[Cl](=O)(=O)=O)(O[Cl](=O)(=O)=O)O[Cl](=O)(=O)=O']\n",
      "error ['[Zr](O[Cl](=O)(=O)=O)(O[Cl](=O)(=O)=O)(O[Cl](=O)(=O)=O)O[Cl](=O)(=O)=O']\n",
      "error ['[Zr](O[Cl](=O)(=O)=O)(O[Cl](=O)(=O)=O)(O[Cl](=O)(=O)=O)O[Cl](=O)(=O)=O']\n",
      "error ['[Zr](O[Cl](=O)(=O)=O)(O[Cl](=O)(=O)=O)(O[Cl](=O)(=O)=O)O[Cl](=O)(=O)=O']\n",
      "error ['[Zr](O[Cl](=O)(=O)=O)(O[Cl](=O)(=O)=O)(O[Cl](=O)(=O)=O)O[Cl](=O)(=O)=O']\n",
      "error ['[Zr](O[Cl](=O)(=O)=O)(O[Cl](=O)(=O)=O)(O[Cl](=O)(=O)=O)O[Cl](=O)(=O)=O']\n",
      "error ['[Zr](O[Cl](=O)(=O)=O)(O[Cl](=O)(=O)=O)(O[Cl](=O)(=O)=O)O[Cl](=O)(=O)=O']\n",
      "error ['[Zr](O[Cl](=O)(=O)=O)(O[Cl](=O)(=O)=O)(O[Cl](=O)(=O)=O)O[Cl](=O)(=O)=O']\n",
      "error ['[Zr](O[Cl](=O)(=O)=O)(O[Cl](=O)(=O)=O)(O[Cl](=O)(=O)=O)O[Cl](=O)(=O)=O']\n",
      "error ['[Zr](O[Cl](=O)(=O)=O)(O[Cl](=O)(=O)=O)(O[Cl](=O)(=O)=O)O[Cl](=O)(=O)=O']\n",
      "error ['[Zr](O[Cl](=O)(=O)=O)(O[Cl](=O)(=O)=O)(O[Cl](=O)(=O)=O)O[Cl](=O)(=O)=O']\n",
      "error ['[Zr](O[Cl](=O)(=O)=O)(O[Cl](=O)(=O)=O)(O[Cl](=O)(=O)=O)O[Cl](=O)(=O)=O']\n",
      "error ['[Zr](O[Cl](=O)(=O)=O)(O[Cl](=O)(=O)=O)(O[Cl](=O)(=O)=O)O[Cl](=O)(=O)=O']\n",
      "error ['[Zr](O[Cl](=O)(=O)=O)(O[Cl](=O)(=O)=O)(O[Cl](=O)(=O)=O)O[Cl](=O)(=O)=O']\n",
      "error ['[Zr](O[Cl](=O)(=O)=O)(O[Cl](=O)(=O)=O)(O[Cl](=O)(=O)=O)O[Cl](=O)(=O)=O']\n"
     ]
    },
    {
     "name": "stderr",
     "output_type": "stream",
     "text": [
      "\r",
      " 50%|█████     | 1/2 [00:00<00:00,  1.45it/s]"
     ]
    },
    {
     "name": "stdout",
     "output_type": "stream",
     "text": [
      "error ['[Mg]C1=C(OCCO2)C2=C([Mg])S1.[Mg]CC(C3=CC=C(S(O)(=O)=O)C=C3)[Mg]', '[H]O[H]', '[H]O[H]', '[Cl-].[Cl-].[Zn2+]', 'O=C(NC)C']\n",
      "error ['[Mg]C1=C(OCCO2)C2=C([Mg])S1.[Mg]CC(C3=CC=C(S(O)(=O)=O)C=C3)[Mg]', '[H]O[H]', '[H]O[H]', '[Cl-].[Cl-].[Cu2+]', 'O=C(NC)C']\n",
      "error ['[Mg]C1=C(OCCO2)C2=C([Mg])S1.[Mg]CC(C3=CC=C(S(O)(=O)=O)C=C3)[Mg]', '[H]O[H]', '[H]O[H]', '[Cl-].[Cl-].[Cl-].[In3+]', 'O=C(NC)C']\n",
      "error ['[Mg]C1=C(OCCO2)C2=C([Mg])S1.[Mg]CC(C3=CC=C(S(O)(=O)=O)C=C3)[Mg]', '[H]O[H]', '[H]O[H]', '[Cl-].[Cl-].[Ni2+]', 'O=C(NC)C']\n"
     ]
    },
    {
     "name": "stderr",
     "output_type": "stream",
     "text": [
      "100%|██████████| 2/2 [00:01<00:00,  1.27it/s]\n"
     ]
    }
   ],
   "source": [
    "from rdkit import Chem\n",
    "from rdkit.Chem import AllChem\n",
    "\n",
    "compIDtoSMILES=dict(zip(df[\"ID\"],df[\"SMILES\"]))\n",
    "\n",
    "graphbinList1=glob.glob(\"temporary/*.graphbin\")\n",
    "graphbinList2=glob.glob(\"../convCSVtoGraph/temp/output/*.graphbin\")\n",
    "graphbinList=sorted(list(set(graphbinList1)|set(graphbinList2)))\n",
    "\n",
    "\n",
    "for graphbin in tqdm(graphbinList):\n",
    "    gList=joblib.load(graphbin)    \n",
    "    ngList=[]\n",
    "    \n",
    "    for g in (gList):\n",
    "        #extract comps\n",
    "        compIDList=[g.nodes[node][\"label\"] for node in g.nodes if str(g.nodes[node][\"label\"])[:2]==\"C_\"]\n",
    "        \n",
    "        \n",
    "        if np.nan in compIDList:\n",
    "            compIDList=[\"none\"]\n",
    "            print(\"nan\")\n",
    "        \n",
    "        if \"C_nan\" in compIDList:\n",
    "            compIDList=[\"none\"]\n",
    "        \n",
    "        #check if mol objects can be made from smiles\n",
    "        try:\n",
    "            SMILESList = [compIDtoSMILES[i[2:]] for i in compIDList]\n",
    "            molList =[Chem.MolFromSmiles(smiles) for smiles in SMILESList]\n",
    "            \n",
    "            for mol in molList:\n",
    "                morgan_fps =AllChem.GetMorganFingerprintAsBitVect(mol, 2, 20)\n",
    "                bit=morgan_fps.ToBitString()\n",
    "\n",
    "            ngList.append(g)\n",
    "        except:\n",
    "            print(\"error\",SMILESList)\n",
    "            \n",
    "    joblib.dump(ngList,graphbin)"
   ]
  },
  {
   "cell_type": "code",
   "execution_count": 8,
   "metadata": {},
   "outputs": [
    {
     "name": "stderr",
     "output_type": "stream",
     "text": [
      "\r",
      "  0%|          | 0/2 [00:00<?, ?it/s]"
     ]
    },
    {
     "name": "stdout",
     "output_type": "stream",
     "text": [
      "['temporary/20190520wikipedia.graphbin', 'temporary/20200220PEDOTProcess.csv.graphbin']\n",
      "loading files\n"
     ]
    },
    {
     "name": "stderr",
     "output_type": "stream",
     "text": [
      "100%|██████████| 2/2 [00:01<00:00,  1.28it/s]\n",
      "  0%|          | 0/2 [00:00<?, ?it/s]"
     ]
    },
    {
     "name": "stdout",
     "output_type": "stream",
     "text": [
      "fitting scalers\n",
      "fit failed:  amorphous density\n",
      "fit failed:  amorphous thermal conductivity\n",
      "fit failed:  simulated band gap\n",
      "fit failed:  simulated highest occupied molecular orbital\n",
      "fit failed:  simulated lowest unoccupied molecular orbital\n",
      "fit failed:  broad peak\n",
      "fit failed:  converted oxidation potential (v vs nhe)\n",
      "fit failed:  converted oxidation/reduction potential (v vs nhe)\n",
      "fit failed:  converted reduction potential (v vs nhe)\n",
      "fit failed:  crystalline density\n",
      "fit failed:  crystalline thermal conductivity\n",
      "fit failed:  simulated dipole moment\n",
      "fit failed:  flash temperature\n",
      "fit failed:  glass expansivity\n",
      "fit failed:  glass transition temperature\n",
      "fit failed:  ionic conductivity\n",
      "fit failed:  ionization energy\n",
      "fit failed:  liquid expansivity\n",
      "fit failed:  liquid heat capacity\n",
      "fit failed:  melting enthalpy\n",
      "fit failed:  molar solubility\n",
      "fit failed:  molar volume\n",
      "fit failed:  number average molecular weight\n",
      "fit failed:  oxidation potential (v vs ag/ag+)\n",
      "fit failed:  oxidation potential (v vs fc/fc+)\n",
      "fit failed:  oxidation potential (v vs li/li+)\n",
      "fit failed:  oxidation potential (v vs nhe)\n",
      "fit failed:  oxidation potential (v vs sce)\n",
      "fit failed:  oxidation potential (v vs she)\n",
      "fit failed:  oxidation/reduction potential (v vs li/li+)\n",
      "fit failed:  oxidation/reduction potential (v vs nhe)\n",
      "fit failed:  oxidation/reduction potential (v vs she)\n",
      "fit failed:  permittivity\n",
      "fit failed:  polarizability\n",
      "fit failed:  polydispersity\n",
      "fit failed:  reduction potential (v vs ag/ag+)\n",
      "fit failed:  reduction potential (v vs fc/fc+)\n",
      "fit failed:  reduction potential (v vs li/li+)\n",
      "fit failed:  reduction potential (v vs nhe)\n",
      "fit failed:  reduction potential (v vs sce)\n",
      "fit failed:  reduction potential (v vs she)\n",
      "fit failed:  simulated biodegrability\n",
      "fit failed:  simulated boiling temperature\n",
      "fit failed:  simulated melting temperature\n",
      "fit failed:  simulated partition coefficient\n",
      "fit failed:  solid heat capacity\n",
      "fit failed:  solubility parameter\n",
      "fit failed:  surface tension\n",
      "fit failed:  uv cutoff\n",
      "fit failed:  decomposition temperature\n",
      "fit failed:  minutes\n",
      "fit failed:  celsius\n",
      "fit failed:  percent\n"
     ]
    },
    {
     "name": "stderr",
     "output_type": "stream",
     "text": [
      "\r",
      " 50%|█████     | 1/2 [00:01<00:01,  1.80s/it]"
     ]
    },
    {
     "name": "stdout",
     "output_type": "stream",
     "text": [
      "saving:  output/20190520wikipedia.graphbin\n",
      "saving:  output/20200220PEDOTProcess.csv.graphbin\n"
     ]
    },
    {
     "name": "stderr",
     "output_type": "stream",
     "text": [
      "100%|██████████| 2/2 [00:03<00:00,  1.71s/it]\n"
     ]
    }
   ],
   "source": [
    "#standardizing values (this is not necessary for PEDOT-PSS project) and finalize graphs\n",
    "#** standardizing was done at step 1, because graphs made from automatic text parsing have slightly different forms\n",
    "#, and standardizing cannot be done by this code. (i.e., developed for \"normal graphs\" ) \n",
    "graphbinList1=glob.glob(\"temporary/*.graphbin\")\n",
    "graphbinList2=glob.glob(\"../convCSVtoGraph/temp/output/*.graphbin\")\n",
    "graphbinList=sorted(list(set(graphbinList1)|set(graphbinList2)))\n",
    "print(graphbinList)\n",
    "\n",
    "AutoSC=AutoParameterScaling()\n",
    "AutoSC.initialize(graphbinList)\n",
    "joblib.dump(AutoSC,\"output/AutoSC.scaler\",compress=3)\n",
    "AutoSC.autoTransform(graphbinList)"
   ]
  },
  {
   "cell_type": "markdown",
   "metadata": {},
   "source": [
    "# check graphs"
   ]
  },
  {
   "cell_type": "code",
   "execution_count": 9,
   "metadata": {},
   "outputs": [
    {
     "name": "stderr",
     "output_type": "stream",
     "text": [
      "100%|██████████| 2/2 [00:00<00:00,  4.91it/s]"
     ]
    },
    {
     "name": "stdout",
     "output_type": "stream",
     "text": [
      "output/20190520wikipedia.graphbin\n",
      "output/20200220PEDOTProcess.csv.graphbin\n"
     ]
    },
    {
     "name": "stderr",
     "output_type": "stream",
     "text": [
      "\r",
      "100%|██████████| 2/2 [00:00<00:00,  4.55it/s]"
     ]
    },
    {
     "name": "stdout",
     "output_type": "stream",
     "text": [
      "1581  plots\n"
     ]
    },
    {
     "name": "stderr",
     "output_type": "stream",
     "text": [
      "\n"
     ]
    }
   ],
   "source": [
    "graphbinList=glob.glob(\"output/*.graphbin\")\n",
    "\n",
    "gList=[]\n",
    "for file in tqdm(graphbinList):\n",
    "    print(file)\n",
    "    temp=joblib.load(file)\n",
    "    gList.extend(temp)\n",
    "\n",
    "print(len(gList), \" plots\")"
   ]
  },
  {
   "cell_type": "code",
   "execution_count": 10,
   "metadata": {},
   "outputs": [
    {
     "data": {
      "text/plain": [
       "['C_[Cd]=[Te]',\n",
       " 'thermal conductivity',\n",
       " 0.11536838097711485,\n",
       " '[w/m/k]',\n",
       " 'refractive index',\n",
       " 0.9960986988674255,\n",
       " '[-]',\n",
       " 'melting temperature',\n",
       " 1.843275633446086,\n",
       " '[oc]',\n",
       " 'heat capacity',\n",
       " 2.449293433177043,\n",
       " '[j/g/k]',\n",
       " 'boiling temperature',\n",
       " 1.2895493663576911,\n",
       " '[oc]',\n",
       " 'band gap',\n",
       " -0.9457967606456557,\n",
       " '[ev]']"
      ]
     },
     "execution_count": 10,
     "metadata": {},
     "output_type": "execute_result"
    },
    {
     "data": {
      "image/png": "[encoded data removed]",
      "text/plain": [
       "<Figure size 864x864 with 1 Axes>"
      ]
     },
     "metadata": {},
     "output_type": "display_data"
    }
   ],
   "source": [
    "number=0\n",
    "\n",
    "#draw\n",
    "drawGraph(gList[number])\n",
    "g=gList[number]\n",
    "nodeVals=[g.nodes[node][\"label\"] for node in g.nodes]\n",
    "nodeVals"
   ]
  },
  {
   "cell_type": "code",
   "execution_count": null,
   "metadata": {},
   "outputs": [],
   "source": []
  }
 ],
 "metadata": {
  "kernelspec": {
   "display_name": "Python 3",
   "language": "python",
   "name": "python3"
  },
  "language_info": {
   "codemirror_mode": {
    "name": "ipython",
    "version": 3
   },
   "file_extension": ".py",
   "mimetype": "text/x-python",
   "name": "python",
   "nbconvert_exporter": "python",
   "pygments_lexer": "ipython3",
   "version": "3.6.10"
  },
  "toc": {
   "base_numbering": 1,
   "nav_menu": {},
   "number_sections": true,
   "sideBar": true,
   "skip_h1_title": false,
   "title_cell": "Table of Contents",
   "title_sidebar": "Contents",
   "toc_cell": false,
   "toc_position": {},
   "toc_section_display": true,
   "toc_window_display": false
  }
 },
 "nbformat": 4,
 "nbformat_minor": 2
}