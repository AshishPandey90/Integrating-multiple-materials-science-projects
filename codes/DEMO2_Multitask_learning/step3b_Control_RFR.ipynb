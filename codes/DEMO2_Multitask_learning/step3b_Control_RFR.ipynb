{
 "cells": [
  {
   "cell_type": "markdown",
   "metadata": {},
   "source": [
    "# Control experiment. Regression by Random forest regressors (RFRs)\n",
    "- in this notebook, we will simply train RFRs with a Wikipedia database\n",
    "- this is just a conventional way to predict properties via materials informatics\n",
    "    - for each parameter, RFR models will be prepared\n",
    "    - paremeters will be simply predicted from \"60-dimensional descriptors\" of the corresponding compound\n",
    "        - these are used as the enbeddings to express chemicals in graph nodes"
   ]
  },
  {
   "cell_type": "code",
   "execution_count": 3,
   "metadata": {},
   "outputs": [],
   "source": [
    "import sys\n",
    "import numpy as np\n",
    "import pandas as pd\n",
    "from sklearn.preprocessing import StandardScaler\n",
    "import joblib\n",
    "import matplotlib.pyplot as plt\n",
    "import copy\n",
    "\n",
    "sys.path.append(\"../MIGraph/Encoders/\")\n"
   ]
  },
  {
   "cell_type": "markdown",
   "metadata": {},
   "source": [
    "# prepare database\n",
    "1. load chemical properties database\n",
    "- calclate descriptors"
   ]
  },
  {
   "cell_type": "code",
   "execution_count": 4,
   "metadata": {},
   "outputs": [
    {
     "name": "stdout",
     "output_type": "stream",
     "text": [
      "params to be learned:  ['pKa', 'Viscosity', 'Vapor pressure', 'Thermal Conductivity', 'Refractive index', 'Melting temperature', 'Absolute molar magnetic susceptibility', 'Partition coefficient', 'Molar Heat Capacity', 'Heat Capacity', 'Dipole Moment', 'Density', 'Absolute standard enthalpy of formation', 'Boiling temperature', 'Band gap']\n"
     ]
    },
    {
     "data": {
      "text/html": [
       "<div>\n",
       "<style scoped>\n",
       "    .dataframe tbody tr th:only-of-type {\n",
       "        vertical-align: middle;\n",
       "    }\n",
       "\n",
       "    .dataframe tbody tr th {\n",
       "        vertical-align: top;\n",
       "    }\n",
       "\n",
       "    .dataframe thead th {\n",
       "        text-align: right;\n",
       "    }\n",
       "</style>\n",
       "<table border=\"1\" class=\"dataframe\">\n",
       "  <thead>\n",
       "    <tr style=\"text-align: right;\">\n",
       "      <th></th>\n",
       "      <th>pKa</th>\n",
       "      <th>Viscosity</th>\n",
       "      <th>Vapor pressure</th>\n",
       "      <th>Thermal Conductivity</th>\n",
       "      <th>Refractive index</th>\n",
       "      <th>Melting temperature</th>\n",
       "      <th>Absolute molar magnetic susceptibility</th>\n",
       "      <th>Partition coefficient</th>\n",
       "      <th>Molar Heat Capacity</th>\n",
       "      <th>Heat Capacity</th>\n",
       "      <th>Dipole Moment</th>\n",
       "      <th>Density</th>\n",
       "      <th>Absolute standard enthalpy of formation</th>\n",
       "      <th>Boiling temperature</th>\n",
       "      <th>Band gap</th>\n",
       "    </tr>\n",
       "    <tr>\n",
       "      <th>SMILES</th>\n",
       "      <th></th>\n",
       "      <th></th>\n",
       "      <th></th>\n",
       "      <th></th>\n",
       "      <th></th>\n",
       "      <th></th>\n",
       "      <th></th>\n",
       "      <th></th>\n",
       "      <th></th>\n",
       "      <th></th>\n",
       "      <th></th>\n",
       "      <th></th>\n",
       "      <th></th>\n",
       "      <th></th>\n",
       "      <th></th>\n",
       "    </tr>\n",
       "  </thead>\n",
       "  <tbody>\n",
       "    <tr>\n",
       "      <th>[Cd]=[Te]</th>\n",
       "      <td>NaN</td>\n",
       "      <td>NaN</td>\n",
       "      <td>NaN</td>\n",
       "      <td>6.2</td>\n",
       "      <td>2.67</td>\n",
       "      <td>1041</td>\n",
       "      <td>NaN</td>\n",
       "      <td>NaN</td>\n",
       "      <td>NaN</td>\n",
       "      <td>210.0</td>\n",
       "      <td>NaN</td>\n",
       "      <td>NaN</td>\n",
       "      <td>NaN</td>\n",
       "      <td>1050</td>\n",
       "      <td>1.5</td>\n",
       "    </tr>\n",
       "    <tr>\n",
       "      <th>N#[Ta]</th>\n",
       "      <td>NaN</td>\n",
       "      <td>NaN</td>\n",
       "      <td>NaN</td>\n",
       "      <td>NaN</td>\n",
       "      <td>NaN</td>\n",
       "      <td>3090</td>\n",
       "      <td>NaN</td>\n",
       "      <td>NaN</td>\n",
       "      <td>NaN</td>\n",
       "      <td>NaN</td>\n",
       "      <td>NaN</td>\n",
       "      <td>NaN</td>\n",
       "      <td>NaN</td>\n",
       "      <td>NaN</td>\n",
       "      <td>NaN</td>\n",
       "    </tr>\n",
       "    <tr>\n",
       "      <th>B#[Re]#B</th>\n",
       "      <td>NaN</td>\n",
       "      <td>NaN</td>\n",
       "      <td>NaN</td>\n",
       "      <td>NaN</td>\n",
       "      <td>NaN</td>\n",
       "      <td>2400</td>\n",
       "      <td>NaN</td>\n",
       "      <td>NaN</td>\n",
       "      <td>NaN</td>\n",
       "      <td>NaN</td>\n",
       "      <td>NaN</td>\n",
       "      <td>12.7</td>\n",
       "      <td>NaN</td>\n",
       "      <td>NaN</td>\n",
       "      <td>NaN</td>\n",
       "    </tr>\n",
       "    <tr>\n",
       "      <th>NaN</th>\n",
       "      <td>NaN</td>\n",
       "      <td>NaN</td>\n",
       "      <td>NaN</td>\n",
       "      <td>NaN</td>\n",
       "      <td>NaN</td>\n",
       "      <td>900/1100</td>\n",
       "      <td>NaN</td>\n",
       "      <td>NaN</td>\n",
       "      <td>NaN</td>\n",
       "      <td>NaN</td>\n",
       "      <td>NaN</td>\n",
       "      <td>11.3</td>\n",
       "      <td>NaN</td>\n",
       "      <td>NaN</td>\n",
       "      <td>NaN</td>\n",
       "    </tr>\n",
       "    <tr>\n",
       "      <th>NaN</th>\n",
       "      <td>NaN</td>\n",
       "      <td>NaN</td>\n",
       "      <td>NaN</td>\n",
       "      <td>NaN</td>\n",
       "      <td>NaN</td>\n",
       "      <td>2797</td>\n",
       "      <td>NaN</td>\n",
       "      <td>NaN</td>\n",
       "      <td>NaN</td>\n",
       "      <td>NaN</td>\n",
       "      <td>NaN</td>\n",
       "      <td>11.1</td>\n",
       "      <td>NaN</td>\n",
       "      <td>NaN</td>\n",
       "      <td>NaN</td>\n",
       "    </tr>\n",
       "    <tr>\n",
       "      <th>...</th>\n",
       "      <td>...</td>\n",
       "      <td>...</td>\n",
       "      <td>...</td>\n",
       "      <td>...</td>\n",
       "      <td>...</td>\n",
       "      <td>...</td>\n",
       "      <td>...</td>\n",
       "      <td>...</td>\n",
       "      <td>...</td>\n",
       "      <td>...</td>\n",
       "      <td>...</td>\n",
       "      <td>...</td>\n",
       "      <td>...</td>\n",
       "      <td>...</td>\n",
       "      <td>...</td>\n",
       "    </tr>\n",
       "    <tr>\n",
       "      <th>NaN</th>\n",
       "      <td>NaN</td>\n",
       "      <td>NaN</td>\n",
       "      <td>NaN</td>\n",
       "      <td>NaN</td>\n",
       "      <td>NaN</td>\n",
       "      <td>NaN</td>\n",
       "      <td>NaN</td>\n",
       "      <td>NaN</td>\n",
       "      <td>NaN</td>\n",
       "      <td>NaN</td>\n",
       "      <td>NaN</td>\n",
       "      <td>NaN</td>\n",
       "      <td>325.0</td>\n",
       "      <td>NaN</td>\n",
       "      <td>NaN</td>\n",
       "    </tr>\n",
       "    <tr>\n",
       "      <th>NaN</th>\n",
       "      <td>NaN</td>\n",
       "      <td>NaN</td>\n",
       "      <td>NaN</td>\n",
       "      <td>NaN</td>\n",
       "      <td>NaN</td>\n",
       "      <td>70/73</td>\n",
       "      <td>NaN</td>\n",
       "      <td>NaN</td>\n",
       "      <td>NaN</td>\n",
       "      <td>NaN</td>\n",
       "      <td>NaN</td>\n",
       "      <td>NaN</td>\n",
       "      <td>NaN</td>\n",
       "      <td>NaN</td>\n",
       "      <td>NaN</td>\n",
       "    </tr>\n",
       "    <tr>\n",
       "      <th>NaN</th>\n",
       "      <td>NaN</td>\n",
       "      <td>NaN</td>\n",
       "      <td>NaN</td>\n",
       "      <td>NaN</td>\n",
       "      <td>NaN</td>\n",
       "      <td>219</td>\n",
       "      <td>NaN</td>\n",
       "      <td>NaN</td>\n",
       "      <td>NaN</td>\n",
       "      <td>NaN</td>\n",
       "      <td>NaN</td>\n",
       "      <td>NaN</td>\n",
       "      <td>NaN</td>\n",
       "      <td>NaN</td>\n",
       "      <td>NaN</td>\n",
       "    </tr>\n",
       "    <tr>\n",
       "      <th>NaN</th>\n",
       "      <td>NaN</td>\n",
       "      <td>NaN</td>\n",
       "      <td>NaN</td>\n",
       "      <td>NaN</td>\n",
       "      <td>NaN</td>\n",
       "      <td>355</td>\n",
       "      <td>NaN</td>\n",
       "      <td>NaN</td>\n",
       "      <td>NaN</td>\n",
       "      <td>NaN</td>\n",
       "      <td>NaN</td>\n",
       "      <td>NaN</td>\n",
       "      <td>NaN</td>\n",
       "      <td>NaN</td>\n",
       "      <td>NaN</td>\n",
       "    </tr>\n",
       "    <tr>\n",
       "      <th>NaN</th>\n",
       "      <td>NaN</td>\n",
       "      <td>NaN</td>\n",
       "      <td>NaN</td>\n",
       "      <td>NaN</td>\n",
       "      <td>NaN</td>\n",
       "      <td>2000</td>\n",
       "      <td>NaN</td>\n",
       "      <td>NaN</td>\n",
       "      <td>NaN</td>\n",
       "      <td>NaN</td>\n",
       "      <td>NaN</td>\n",
       "      <td>NaN</td>\n",
       "      <td>NaN</td>\n",
       "      <td>NaN</td>\n",
       "      <td>NaN</td>\n",
       "    </tr>\n",
       "  </tbody>\n",
       "</table>\n",
       "<p>1370 rows × 15 columns</p>\n",
       "</div>"
      ],
      "text/plain": [
       "           pKa  Viscosity  Vapor pressure  Thermal Conductivity  \\\n",
       "SMILES                                                            \n",
       "[Cd]=[Te]  NaN        NaN             NaN                   6.2   \n",
       "N#[Ta]     NaN        NaN             NaN                   NaN   \n",
       "B#[Re]#B   NaN        NaN             NaN                   NaN   \n",
       "NaN        NaN        NaN             NaN                   NaN   \n",
       "NaN        NaN        NaN             NaN                   NaN   \n",
       "...        ...        ...             ...                   ...   \n",
       "NaN        NaN        NaN             NaN                   NaN   \n",
       "NaN        NaN        NaN             NaN                   NaN   \n",
       "NaN        NaN        NaN             NaN                   NaN   \n",
       "NaN        NaN        NaN             NaN                   NaN   \n",
       "NaN        NaN        NaN             NaN                   NaN   \n",
       "\n",
       "          Refractive index Melting temperature  \\\n",
       "SMILES                                           \n",
       "[Cd]=[Te]             2.67                1041   \n",
       "N#[Ta]                 NaN                3090   \n",
       "B#[Re]#B               NaN                2400   \n",
       "NaN                    NaN            900/1100   \n",
       "NaN                    NaN                2797   \n",
       "...                    ...                 ...   \n",
       "NaN                    NaN                 NaN   \n",
       "NaN                    NaN               70/73   \n",
       "NaN                    NaN                 219   \n",
       "NaN                    NaN                 355   \n",
       "NaN                    NaN                2000   \n",
       "\n",
       "           Absolute molar magnetic susceptibility Partition coefficient  \\\n",
       "SMILES                                                                    \n",
       "[Cd]=[Te]                                     NaN                   NaN   \n",
       "N#[Ta]                                        NaN                   NaN   \n",
       "B#[Re]#B                                      NaN                   NaN   \n",
       "NaN                                           NaN                   NaN   \n",
       "NaN                                           NaN                   NaN   \n",
       "...                                           ...                   ...   \n",
       "NaN                                           NaN                   NaN   \n",
       "NaN                                           NaN                   NaN   \n",
       "NaN                                           NaN                   NaN   \n",
       "NaN                                           NaN                   NaN   \n",
       "NaN                                           NaN                   NaN   \n",
       "\n",
       "           Molar Heat Capacity  Heat Capacity Dipole Moment  Density  \\\n",
       "SMILES                                                                 \n",
       "[Cd]=[Te]                  NaN          210.0           NaN      NaN   \n",
       "N#[Ta]                     NaN            NaN           NaN      NaN   \n",
       "B#[Re]#B                   NaN            NaN           NaN     12.7   \n",
       "NaN                        NaN            NaN           NaN     11.3   \n",
       "NaN                        NaN            NaN           NaN     11.1   \n",
       "...                        ...            ...           ...      ...   \n",
       "NaN                        NaN            NaN           NaN      NaN   \n",
       "NaN                        NaN            NaN           NaN      NaN   \n",
       "NaN                        NaN            NaN           NaN      NaN   \n",
       "NaN                        NaN            NaN           NaN      NaN   \n",
       "NaN                        NaN            NaN           NaN      NaN   \n",
       "\n",
       "           Absolute standard enthalpy of formation Boiling temperature  \\\n",
       "SMILES                                                                   \n",
       "[Cd]=[Te]                                      NaN                1050   \n",
       "N#[Ta]                                         NaN                 NaN   \n",
       "B#[Re]#B                                       NaN                 NaN   \n",
       "NaN                                            NaN                 NaN   \n",
       "NaN                                            NaN                 NaN   \n",
       "...                                            ...                 ...   \n",
       "NaN                                          325.0                 NaN   \n",
       "NaN                                            NaN                 NaN   \n",
       "NaN                                            NaN                 NaN   \n",
       "NaN                                            NaN                 NaN   \n",
       "NaN                                            NaN                 NaN   \n",
       "\n",
       "           Band gap  \n",
       "SMILES               \n",
       "[Cd]=[Te]       1.5  \n",
       "N#[Ta]          NaN  \n",
       "B#[Re]#B        NaN  \n",
       "NaN             NaN  \n",
       "NaN             NaN  \n",
       "...             ...  \n",
       "NaN             NaN  \n",
       "NaN             NaN  \n",
       "NaN             NaN  \n",
       "NaN             NaN  \n",
       "NaN             NaN  \n",
       "\n",
       "[1370 rows x 15 columns]"
      ]
     },
     "execution_count": 4,
     "metadata": {},
     "output_type": "execute_result"
    }
   ],
   "source": [
    "#load wikipedia database\n",
    "path=\"praparingGraphs/input/additional_simple_comps/20190520wikipedia.csv\"\n",
    "df=pd.read_csv(path)\n",
    "df=df.set_index(\"SMILES\")\n",
    "\n",
    "#drop unnecesary columns\n",
    "df=df.drop([\"ID\",\"CompName\",\"CASNo\"],axis=1)\n",
    "\n",
    "targetParams=list(df.columns)\n",
    "print(\"params to be learned: \", targetParams)\n",
    "df"
   ]
  },
  {
   "cell_type": "code",
   "execution_count": 5,
   "metadata": {},
   "outputs": [
    {
     "name": "stderr",
     "output_type": "stream",
     "text": [
      "/home/kh/anaconda3/envs/chem/lib/python3.6/site-packages/chainer/_environment_check.py:73: UserWarning: \n",
      "--------------------------------------------------------------------------------\n",
      "CuPy (cupy) version 6.0.0 may not be compatible with this version of Chainer.\n",
      "Please consider installing the supported version by running:\n",
      "  $ pip install 'cupy>=7.2.0,<8.0.0'\n",
      "\n",
      "See the following page for more details:\n",
      "  https://docs-cupy.chainer.org/en/latest/install.html\n",
      "--------------------------------------------------------------------------------\n",
      "\n",
      "  requirement=requirement, help=help))\n",
      " 32%|███▏      | 424/1308 [00:00<00:00, 4238.70it/s]"
     ]
    },
    {
     "name": "stdout",
     "output_type": "stream",
     "text": [
      "number of smiles:  1308\n",
      "calculate fingerprints\n",
      "error  nan\n",
      "error  [H]1[BH]2[H][BH]3[BH]24[BH]1[H][BH]4[H]3\n",
      "error  [K+].o=c(-c(=o)o1)o[Fe-3]123(oc(-c(=o)o2)=o)oc(-c(=o)o3)=o.[K+].[K+]\n",
      "error  [OH2][Re](=O)(=O)(=O)([OH2])O[Re](=O)(=O)=O\n",
      "error  B1([H]3)(C2CCCC1CCC2)[H]B34C2CCCC4CCC2\n",
      "error  [Cl-].[Cl-].[Zn2+]\n",
      "error  [Na+].[Na+].[Na+].[PH6-3]\n",
      "error  FCl(F)(F)(F)F\n",
      "error  c1=cc=c[cH+]c=c1\n",
      "error  [Cd+2].[Cd+2].[Cd+2].[AsH6-3].[AsH6-3]\n",
      "error  [Na+].o=c(-c(=o)o1)o[Fe-3]123(oc(-c(=o)o2)=o)oc(-c(=o)o3)=o.[Na+].[Na+]\n",
      "error  c1[nH]c2c(n1)c(=O)nc(n2)N\n",
      "error  [Cl-].[Cl-].[Ni2+]\n",
      "error  F[Si-2](F)(F)(F)(F)F.[NH4+].[NH4+]\n",
      "error  o=c([o-])C.[N+H4]\n"
     ]
    },
    {
     "name": "stderr",
     "output_type": "stream",
     "text": [
      "100%|██████████| 1308/1308 [00:00<00:00, 4293.94it/s]\n"
     ]
    },
    {
     "name": "stdout",
     "output_type": "stream",
     "text": [
      "error  FBr(F)(F)(F)F\n",
      "error  O=[Cl]=O\n",
      "error  FCl(=O)(=O)=O\n",
      "error  [Cl-].[Cl-].[Cu2+]\n",
      "error  [O-2]=[Ce+4]=[O-2]\n",
      "error  [Cl-].[Cl-].[Cl-].[In3+]\n",
      "loading files\n",
      "compressing and scaling\n"
     ]
    }
   ],
   "source": [
    "#prepdata.CompDat class can calculate 60-dim vectors for smiles (which are normally enbedded in graph nodes in step2)\n",
    "\n",
    "from PrepDataset import PrepDataset\n",
    "allCompundsPath=\"praparingGraphs/output/allcompounds.csv.gz\"\n",
    "prepdata=PrepDataset()\n",
    "prepdata.setCompoundEncoder(allCompundsPath)\n",
    "\n"
   ]
  },
  {
   "cell_type": "code",
   "execution_count": 6,
   "metadata": {},
   "outputs": [],
   "source": [
    "#merge descriptor info\n",
    "descDf=pd.DataFrame.from_dict(prepdata.CompDat.IDtoDescs).T\n",
    "descColumns=[\"D\"+str(i) for i in range(descDf.shape[1])]\n",
    "descDf.columns=descColumns\n",
    "\n",
    "mergeDf=df.merge(descDf, left_index=True, right_index=True, how='left')\n",
    "\n",
    "#delete inappropriate smiles\n",
    "mergeDf=mergeDf.dropna(subset=['D0'])\n"
   ]
  },
  {
   "cell_type": "markdown",
   "metadata": {},
   "source": [
    "# machine learning\n",
    "1. select target property to be predicted (e.g, density)\n",
    "- delete missing data rows\n",
    "- split database into train and test datasets (9:1)\n",
    "- machine learning by rfr\n",
    "\n",
    "## the results can be compared with data shown in Table 1 in Suppl. info of the article"
   ]
  },
  {
   "cell_type": "code",
   "execution_count": 7,
   "metadata": {},
   "outputs": [],
   "source": [
    "logList=[\n",
    "    \"Absolute molar magnetic susceptibility\",\n",
    "    \"Absolute standard enthalpy of formation\",\n",
    "    \"Thermal Conductivity\",\n",
    "    \"Vapor pressure\",\n",
    "    \"Viscosity\"    \n",
    "]"
   ]
  },
  {
   "cell_type": "code",
   "execution_count": 37,
   "metadata": {},
   "outputs": [],
   "source": [
    "from sklearn.model_selection import train_test_split\n",
    "from sklearn.ensemble import RandomForestRegressor\n",
    "from sklearn.metrics import r2_score\n",
    "from sklearn.metrics import mean_absolute_error\n",
    "\n",
    "SPL_RATIO=0.9\n",
    "\n",
    "def plot(x,y,tx,ty):\n",
    "    global target\n",
    "    global sc\n",
    "    \"\"\"\n",
    "    y=sc.inverse_transform(y)\n",
    "    x=sc.inverse_transform(x)\n",
    "    ty=sc.inverse_transform(ty)\n",
    "    tx=sc.inverse_transform(tx)\n",
    "    \"\"\"\n",
    "\n",
    "    plt.figure(figsize=(5,5))\n",
    "    plt.axes().set_aspect('equal', 'datalim')\n",
    "    plt.plot(x,y,\"o\")\n",
    "    plt.plot(tx,ty,\"o\")\n",
    "\n",
    "    plt.title(target)\n",
    "    print(\"trR2: \",r2_score(x,y))\n",
    "    print(\"trMAE: \",mean_absolute_error(x,y))\n",
    "    print(\"teR2: \",r2_score(tx,ty))\n",
    "    print(\"teMAE: \",mean_absolute_error(tx,ty))\n",
    "\n",
    "def ML(target):\n",
    "    global sc\n",
    "    datasetColumns=copy.deepcopy(descColumns)\n",
    "    datasetColumns.append(target)\n",
    "\n",
    "    datasetDf=copy.deepcopy(mergeDf)[datasetColumns]\n",
    "    datasetDf=datasetDf.dropna(subset=[target])\n",
    "\n",
    "    tList=datasetDf[target].values\n",
    "    tList=[str(i).split(\"/\")[0] for i in tList]\n",
    "    tList=[i if i is not \"0\" else 0 for i in tList]\n",
    "    datasetDf[target]=tList\n",
    "    datasetDf[target]=datasetDf[target].astype(float)\n",
    "\n",
    "    def mySum(x):\n",
    "        return np.log(x+1/10000)\n",
    "    \n",
    "    if target in logList:\n",
    "        print(\"to log\")\n",
    "        datasetDf[target]=datasetDf[target].apply(mySum)\n",
    "\n",
    "    datasetDf=datasetDf.dropna(subset=[target])\n",
    "\n",
    "    sc=StandardScaler()\n",
    "    datasetDf[target]=sc.fit_transform(datasetDf[[target]])\n",
    "\n",
    "    tr,te=train_test_split(datasetDf,train_size=SPL_RATIO)\n",
    "\n",
    "    rfr=RandomForestRegressor(\n",
    "        #you can optimize hyperparams, but the results will not improve significantly\n",
    "        max_depth=5\n",
    "    )\n",
    "    rfr.fit(tr[descColumns],tr[target])\n",
    "\n",
    "    predTrain=rfr.predict(tr[descColumns])\n",
    "    predTest=rfr.predict(te[descColumns])\n",
    "\n",
    "    print(target)\n",
    "    print(predTrain.shape[0], \" train samples\")\n",
    "    print(predTest.shape[0], \" test samples\")\n",
    "    \n",
    "    plot(tr[target],predTrain,te[target],predTest)\n",
    "    print(\"\\n\")"
   ]
  },
  {
   "cell_type": "code",
   "execution_count": 39,
   "metadata": {
    "tags": [
     "outputPrepend",
     "outputPrepend",
     "outputPrepend",
     "outputPrepend",
     "outputPrepend",
     "outputPrepend"
    ]
   },
   "outputs": [
    {
     "name": "stdout",
     "output_type": "stream",
     "text": [
      "to log\n",
      "Absolute molar magnetic susceptibility\n",
      "248  train samples\n",
      "28  test samples\n",
      "trR2:  0.6932321689192336\n",
      "trMAE:  0.38713023050205037\n",
      "teR2:  0.019998271660223055\n",
      "teMAE:  0.46304170494111\n",
      "\n",
      "\n",
      "to log\n",
      "Absolute standard enthalpy of formation\n",
      "77  train samples\n",
      "9  test samples\n",
      "trR2:  0.8089423715488435\n",
      "trMAE:  0.2825748838973086\n",
      "teR2:  -3.957942933866736\n",
      "teMAE:  0.7049448596277839\n",
      "\n",
      "\n",
      "Band gap\n",
      "9  train samples\n",
      "1  test samples\n",
      "trR2:  0.8847704518283053\n",
      "trMAE:  0.266487889579388\n",
      "teR2:  nan\n",
      "teMAE:  0.8128017123814345\n",
      "\n",
      "\n",
      "Boiling temperature\n",
      "604  train samples\n",
      "68  test samples\n",
      "trR2:  0.6337487964834542\n",
      "trMAE:  0.3652888176744759\n",
      "teR2:  0.03235191240891433\n",
      "teMAE:  0.4875992611932446\n",
      "\n",
      "\n",
      "Density\n",
      "687  train samples\n",
      "77  test samples\n",
      "trR2:  0.6458031805427591\n",
      "trMAE:  0.4074980800495754\n",
      "teR2:  0.3657145588380898\n",
      "teMAE:  0.4670139650597506\n",
      "\n",
      "\n",
      "Dipole Moment\n",
      "72  train samples\n",
      "9  test samples\n",
      "trR2:  0.8503143407320316\n",
      "trMAE:  0.30065766893013457\n",
      "teR2:  -0.19430255866165158\n",
      "teMAE:  0.6572841912399521\n",
      "\n",
      "\n",
      "Heat Capacity\n",
      "6  train samples\n",
      "1  test samples\n",
      "trR2:  0.8084551805652729\n",
      "trMAE:  0.2711175993727297\n",
      "teR2:  nan\n",
      "teMAE:  0.031726425952687265\n",
      "\n",
      "\n",
      "Melting temperature\n",
      "942  train samples\n",
      "105  test samples\n",
      "trR2:  0.5500416587013\n",
      "trMAE:  0.42039800832923296\n",
      "teR2:  0.2361370163173141\n",
      "teMAE:  0.45943415813502364\n",
      "\n",
      "\n",
      "Molar Heat Capacity\n",
      "37  train samples\n",
      "5  test samples\n",
      "trR2:  0.8574530566923291\n",
      "trMAE:  0.30195363362550964\n",
      "teR2:  0.33359663050568356\n",
      "teMAE:  0.6017368040000441\n",
      "\n",
      "\n",
      "Partition coefficient\n",
      "55  train samples\n",
      "7  test samples\n",
      "trR2:  0.8627291439891009\n",
      "trMAE:  0.2917966748903135\n",
      "teR2:  -0.1457701259538513\n",
      "teMAE:  1.0047137983353538\n",
      "\n",
      "\n",
      "Refractive index\n",
      "149  train samples\n",
      "17  test samples\n",
      "trR2:  0.7596230053001272\n",
      "trMAE:  0.1640599440717375\n",
      "teR2:  -0.06566680176178386\n",
      "teMAE:  0.9127957321962681\n",
      "\n",
      "\n",
      "to log\n",
      "Thermal Conductivity\n",
      "5  train samples\n",
      "1  test samples\n",
      "trR2:  0.8085202446093195\n",
      "trMAE:  0.4561455920915682\n",
      "teR2:  nan\n",
      "teMAE:  0.4422552502599536\n",
      "\n",
      "\n",
      "to log\n",
      "Vapor pressure\n",
      "43  train samples\n",
      "5  test samples\n",
      "trR2:  0.9092858071193408\n",
      "trMAE:  0.24401248159373148\n",
      "teR2:  0.03973785917469608\n",
      "teMAE:  0.4302323530150091\n",
      "\n",
      "\n",
      "to log\n",
      "Viscosity\n",
      "45  train samples\n",
      "5  test samples\n",
      "trR2:  0.8322130078369343\n",
      "trMAE:  0.23580792663139644\n",
      "teR2:  -2.2494877888091946\n",
      "teMAE:  0.5026047043162629\n",
      "\n",
      "\n",
      "pKa\n",
      "88  train samples\n",
      "10  test samples\n",
      "trR2:  0.8142458012549817\n",
      "trMAE:  0.33832170211174484\n",
      "teR2:  0.21721445573055365\n",
      "teMAE:  0.8394955575876717\n",
      "\n",
      "\n"
     ]
    },
    {
     "data": {
      "image/png": "[encoded data removed]",
      "text/plain": [
       "<Figure size 360x360 with 1 Axes>"
      ]
     },
     "metadata": {
      "needs_background": "light"
     },
     "output_type": "display_data"
    },
    {
     "data": {
      "image/png": "[encoded data removed]",
      "text/plain": [
       "<Figure size 360x360 with 1 Axes>"
      ]
     },
     "metadata": {
      "needs_background": "light"
     },
     "output_type": "display_data"
    },
    {
     "data": {
      "image/png": "[encoded data removed]",
      "text/plain": [
       "<Figure size 360x360 with 1 Axes>"
      ]
     },
     "metadata": {
      "needs_background": "light"
     },
     "output_type": "display_data"
    },
    {
     "data": {
      "image/png": "[encoded data removed]",
      "text/plain": [
       "<Figure size 360x360 with 1 Axes>"
      ]
     },
     "metadata": {
      "needs_background": "light"
     },
     "output_type": "display_data"
    },
    {
     "data": {
      "image/png": "[encoded data removed]",
      "text/plain": [
       "<Figure size 360x360 with 1 Axes>"
      ]
     },
     "metadata": {
      "needs_background": "light"
     },
     "output_type": "display_data"
    },
    {
     "data": {
      "image/png": "[encoded data removed]",
      "text/plain": [
       "<Figure size 360x360 with 1 Axes>"
      ]
     },
     "metadata": {
      "needs_background": "light"
     },
     "output_type": "display_data"
    },
    {
     "data": {
      "image/png": "[encoded data removed]",
      "text/plain": [
       "<Figure size 360x360 with 1 Axes>"
      ]
     },
     "metadata": {
      "needs_background": "light"
     },
     "output_type": "display_data"
    },
    {
     "data": {
      "image/png": "[encoded data removed]",
      "text/plain": [
       "<Figure size 360x360 with 1 Axes>"
      ]
     },
     "metadata": {
      "needs_background": "light"
     },
     "output_type": "display_data"
    },
    {
     "data": {
      "image/png": "[encoded data removed]",
      "text/plain": [
       "<Figure size 360x360 with 1 Axes>"
      ]
     },
     "metadata": {
      "needs_background": "light"
     },
     "output_type": "display_data"
    },
    {
     "data": {
      "image/png": "[encoded data removed]",
      "text/plain": [
       "<Figure size 360x360 with 1 Axes>"
      ]
     },
     "metadata": {
      "needs_background": "light"
     },
     "output_type": "display_data"
    },
    {
     "data": {
      "image/png": "[encoded data removed]",
      "text/plain": [
       "<Figure size 360x360 with 1 Axes>"
      ]
     },
     "metadata": {
      "needs_background": "light"
     },
     "output_type": "display_data"
    },
    {
     "data": {
      "image/png": "[encoded data removed]",
      "text/plain": [
       "<Figure size 360x360 with 1 Axes>"
      ]
     },
     "metadata": {
      "needs_background": "light"
     },
     "output_type": "display_data"
    },
    {
     "data": {
      "image/png": "[encoded data removed]",
      "text/plain": [
       "<Figure size 360x360 with 1 Axes>"
      ]
     },
     "metadata": {
      "needs_background": "light"
     },
     "output_type": "display_data"
    },
    {
     "data": {
      "image/png": "[encoded data removed]",
      "text/plain": [
       "<Figure size 360x360 with 1 Axes>"
      ]
     },
     "metadata": {
      "needs_background": "light"
     },
     "output_type": "display_data"
    },
    {
     "data": {
      "image/png": "[encoded data removed]",
      "text/plain": [
       "<Figure size 360x360 with 1 Axes>"
      ]
     },
     "metadata": {
      "needs_background": "light"
     },
     "output_type": "display_data"
    }
   ],
   "source": [
    "targetParams.sort()\n",
    "for target in targetParams:\n",
    "    ML(target)\n",
    "    "
   ]
  },
  {
   "cell_type": "code",
   "execution_count": null,
   "metadata": {},
   "outputs": [],
   "source": []
  }
 ],
 "metadata": {
  "kernelspec": {
   "display_name": "Python 3",
   "language": "python",
   "name": "python3"
  },
  "language_info": {
   "codemirror_mode": {
    "name": "ipython",
    "version": 3
   },
   "file_extension": ".py",
   "mimetype": "text/x-python",
   "name": "python",
   "nbconvert_exporter": "python",
   "pygments_lexer": "ipython3",
   "version": "3.6.10"
  },
  "toc": {
   "base_numbering": 1,
   "nav_menu": {},
   "number_sections": true,
   "sideBar": true,
   "skip_h1_title": false,
   "title_cell": "Table of Contents",
   "title_sidebar": "Contents",
   "toc_cell": false,
   "toc_position": {},
   "toc_section_display": true,
   "toc_window_display": false
  }
 },
 "nbformat": 4,
 "nbformat_minor": 2
}
