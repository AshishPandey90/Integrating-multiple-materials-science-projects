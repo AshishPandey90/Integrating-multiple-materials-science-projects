{
 "cells": [
  {
   "cell_type": "markdown",
   "metadata": {},
   "source": [
    "# This script convert graph dataset to adjacency matix and node vectors for machine learning"
   ]
  },
  {
   "cell_type": "code",
   "execution_count": 1,
   "metadata": {},
   "outputs": [
    {
     "name": "stderr",
     "output_type": "stream",
     "text": [
      "/home/kh/anaconda3/envs/chem/lib/python3.6/site-packages/chainer/_environment_check.py:73: UserWarning: \n",
      "--------------------------------------------------------------------------------\n",
      "CuPy (cupy) version 6.0.0 may not be compatible with this version of Chainer.\n",
      "Please consider installing the supported version by running:\n",
      "  $ pip install 'cupy>=7.2.0,<8.0.0'\n",
      "\n",
      "See the following page for more details:\n",
      "  https://docs-cupy.chainer.org/en/latest/install.html\n",
      "--------------------------------------------------------------------------------\n",
      "\n",
      "  requirement=requirement, help=help))\n"
     ]
    },
    {
     "name": "stdout",
     "output_type": "stream",
     "text": [
      "mode:  ['V']\n",
      "targetParamMode:  True\n"
     ]
    }
   ],
   "source": [
    "\n",
    "import sys\n",
    "sys.path.append(\"../MIGraph/GraphConv/\")\n",
    "sys.path.append(\"../MIGraph/Encoders/\")\n",
    "import numpy as np\n",
    "import pandas as pd\n",
    "from tqdm import tqdm\n",
    "import joblib\n",
    "import warnings\n",
    "from Config import Config\n",
    "import glob\n",
    "from ConvGraphScript import drawGraph\n",
    "from PrepDataset import PrepDataset\n",
    "\n",
    "%load_ext autoreload\n",
    "%autoreload 2\n",
    "    \n",
    "warnings.filterwarnings('ignore')\n",
    "CF=Config()\n",
    "\n",
    "print(\"mode: \",CF.genre)\n",
    "print(\"targetParamMode: \",CF.targetParamMode)"
   ]
  },
  {
   "cell_type": "code",
   "execution_count": 2,
   "metadata": {
    "scrolled": true
   },
   "outputs": [
    {
     "name": "stderr",
     "output_type": "stream",
     "text": [
      " 32%|███▏      | 416/1308 [00:00<00:00, 4155.19it/s]"
     ]
    },
    {
     "name": "stdout",
     "output_type": "stream",
     "text": [
      "number of smiles:  1308\n",
      "calculate fingerprints\n",
      "error  nan\n",
      "error  c1=cc=c[cH+]c=c1\n",
      "error  [Cl-].[Cl-].[Zn2+]\n",
      "error  [Na+].o=c(-c(=o)o1)o[Fe-3]123(oc(-c(=o)o2)=o)oc(-c(=o)o3)=o.[Na+].[Na+]\n",
      "error  [O-2]=[Ce+4]=[O-2]\n",
      "error  [H]1[BH]2[H][BH]3[BH]24[BH]1[H][BH]4[H]3\n",
      "error  [K+].o=c(-c(=o)o1)o[Fe-3]123(oc(-c(=o)o2)=o)oc(-c(=o)o3)=o.[K+].[K+]\n",
      "error  [Cd+2].[Cd+2].[Cd+2].[AsH6-3].[AsH6-3]\n",
      "error  F[Si-2](F)(F)(F)(F)F.[NH4+].[NH4+]\n",
      "error  [OH2][Re](=O)(=O)(=O)([OH2])O[Re](=O)(=O)=O\n",
      "error  [Cl-].[Cl-].[Cu2+]\n",
      "error  O=[Cl]=O\n",
      "error  [Cl-].[Cl-].[Ni2+]\n"
     ]
    },
    {
     "name": "stderr",
     "output_type": "stream",
     "text": [
      "\r",
      " 65%|██████▌   | 854/1308 [00:00<00:00, 4218.15it/s]"
     ]
    },
    {
     "name": "stdout",
     "output_type": "stream",
     "text": [
      "error  [Cl-].[Cl-].[Cl-].[In3+]\n"
     ]
    },
    {
     "name": "stderr",
     "output_type": "stream",
     "text": [
      "100%|██████████| 1308/1308 [00:00<00:00, 4294.65it/s]\n"
     ]
    },
    {
     "name": "stdout",
     "output_type": "stream",
     "text": [
      "error  c1[nH]c2c(n1)c(=O)nc(n2)N\n",
      "error  FCl(F)(F)(F)F\n",
      "error  FBr(F)(F)(F)F\n",
      "error  o=c([o-])C.[N+H4]\n",
      "error  [Na+].[Na+].[Na+].[PH6-3]\n",
      "error  FCl(=O)(=O)=O\n",
      "error  B1([H]3)(C2CCCC1CCC2)[H]B34C2CCCC4CCC2\n",
      "loading files\n",
      "compressing and scaling\n"
     ]
    }
   ],
   "source": [
    "#init compound encoder\n",
    "PD=PrepDataset()\n",
    "allCompundsPath=\"praparingGraphs/output/allcompounds.csv.gz\"\n",
    "\n",
    "PD.setCompoundEncoder(allCompundsPath)"
   ]
  },
  {
   "cell_type": "code",
   "execution_count": 3,
   "metadata": {},
   "outputs": [
    {
     "name": "stderr",
     "output_type": "stream",
     "text": [
      "\r",
      "  0%|          | 0/2 [00:00<?, ?it/s]"
     ]
    },
    {
     "name": "stdout",
     "output_type": "stream",
     "text": [
      "['praparingGraphs/output/20190520wikipedia.graphbin', 'praparingGraphs/output/20200220PEDOTProcess.csv.graphbin']\n",
      "praparingGraphs/output/20200220PEDOTProcess.csv.graphbin\n"
     ]
    },
    {
     "name": "stderr",
     "output_type": "stream",
     "text": [
      "100%|██████████| 2/2 [00:00<00:00,  4.55it/s]"
     ]
    },
    {
     "name": "stdout",
     "output_type": "stream",
     "text": [
      "praparingGraphs/output/20190520wikipedia.graphbin\n"
     ]
    },
    {
     "name": "stderr",
     "output_type": "stream",
     "text": [
      "\n"
     ]
    }
   ],
   "source": [
    "#load graph files\n",
    "graphbinList=glob.glob(\"praparingGraphs/output/*.graphbin\")\n",
    "print(graphbinList)\n",
    "graphbinList.sort(reverse=True)\n",
    "\n",
    "for file in tqdm(graphbinList):\n",
    "    print(file)\n",
    "    gl=joblib.load(file)\n",
    "    PD.graphList.extend(gl)"
   ]
  },
  {
   "cell_type": "code",
   "execution_count": 4,
   "metadata": {},
   "outputs": [
    {
     "name": "stdout",
     "output_type": "stream",
     "text": [
      "load BERT encoder\n",
      "1581\n"
     ]
    },
    {
     "data": {
      "image/png": "[encoded data removed]",
      "text/plain": [
       "<Figure size 432x288 with 1 Axes>"
      ]
     },
     "metadata": {
      "needs_background": "light"
     },
     "output_type": "display_data"
    }
   ],
   "source": [
    "PD.setScaler()\n",
    "print(len(PD.graphList))\n"
   ]
  },
  {
   "cell_type": "markdown",
   "metadata": {},
   "source": [
    "# preparing problems\n",
    "- in demo 1, only conducitvity was set as problems.\n",
    "- on the other hand, other parametes, such as melting temperature, will be set as problems.\n",
    "- see \"self.targetParams\" in Config.py to check what kind of parameters can be problems."
   ]
  },
  {
   "cell_type": "code",
   "execution_count": 5,
   "metadata": {
    "scrolled": true
   },
   "outputs": [
    {
     "name": "stderr",
     "output_type": "stream",
     "text": [
      "  4%|▎         | 59/1581 [00:00<00:05, 290.90it/s]"
     ]
    },
    {
     "name": "stdout",
     "output_type": "stream",
     "text": [
      "process  1581  graphs\n",
      "converting graphs to vectors\n"
     ]
    },
    {
     "name": "stderr",
     "output_type": "stream",
     "text": [
      "100%|██████████| 1581/1581 [00:02<00:00, 777.98it/s] \n",
      "56it [00:00, 272.25it/s]"
     ]
    },
    {
     "name": "stdout",
     "output_type": "stream",
     "text": [
      "converting nodes to problems\n"
     ]
    },
    {
     "name": "stderr",
     "output_type": "stream",
     "text": [
      "1581it [00:03, 517.73it/s]\n",
      "100%|██████████| 4001/4001 [00:01<00:00, 3424.06it/s]\n",
      "4001it [00:00, 2027474.97it/s]\n"
     ]
    }
   ],
   "source": [
    "#prepare dataset\n",
    "\n",
    "#parallel mode off\n",
    "PD.parallel=False\n",
    "trainDataset=PD.convToDataset(CF.genre,graphList=PD.graphList)\n"
   ]
  },
  {
   "cell_type": "code",
   "execution_count": 6,
   "metadata": {},
   "outputs": [
    {
     "data": {
      "text/plain": [
       "['bin/traindataset.bin']"
      ]
     },
     "execution_count": 6,
     "metadata": {},
     "output_type": "execute_result"
    }
   ],
   "source": [
    "\n",
    "joblib.dump(trainDataset,\"bin/traindataset.bin\",compress=9)\n"
   ]
  },
  {
   "cell_type": "code",
   "execution_count": 7,
   "metadata": {},
   "outputs": [
    {
     "data": {
      "text/plain": [
       "(array([[ 0.5273826 ,  0.9215451 , -0.9481316 , ..., -0.10286016,\n",
       "         -0.6198921 ,  0.00931165],\n",
       "        [ 0.52154136,  0.22977076, -0.40774637, ...,  0.18848634,\n",
       "          0.18848634,  0.18848634],\n",
       "        [ 0.52154136,  0.22977076, -0.40774637, ...,  0.38518208,\n",
       "          0.38518208,  0.38518208],\n",
       "        ...,\n",
       "        [ 0.5273826 ,  0.9215451 , -0.9481316 , ..., -0.3035091 ,\n",
       "         -0.26095045, -0.22768536],\n",
       "        [ 0.5273826 ,  0.9215451 , -0.9481316 , ...,  0.21281011,\n",
       "         -0.32839656,  0.69775283],\n",
       "        [ 0.5273826 ,  0.9215451 , -0.9481316 , ..., -0.3035091 ,\n",
       "         -0.26095045, -0.22768536]], dtype=float32),\n",
       " array([[0., 0., 0., ..., 0., 0., 0.],\n",
       "        [0., 0., 0., ..., 0., 0., 0.],\n",
       "        [0., 0., 0., ..., 0., 0., 0.],\n",
       "        ...,\n",
       "        [0., 0., 0., ..., 0., 0., 0.],\n",
       "        [0., 0., 0., ..., 0., 0., 0.],\n",
       "        [0., 0., 0., ..., 0., 0., 0.]], dtype=float32),\n",
       " array([-1.1863406], dtype=float32),\n",
       " 'electric conductivity')"
      ]
     },
     "execution_count": 7,
     "metadata": {},
     "output_type": "execute_result"
    }
   ],
   "source": [
    "#see how converted...\n",
    "trainDataset[0]"
   ]
  },
  {
   "cell_type": "code",
   "execution_count": null,
   "metadata": {},
   "outputs": [],
   "source": []
  }
 ],
 "metadata": {
  "kernelspec": {
   "display_name": "Python 3",
   "language": "python",
   "name": "python3"
  },
  "language_info": {
   "codemirror_mode": {
    "name": "ipython",
    "version": 3
   },
   "file_extension": ".py",
   "mimetype": "text/x-python",
   "name": "python",
   "nbconvert_exporter": "python",
   "pygments_lexer": "ipython3",
   "version": "3.6.10"
  },
  "toc": {
   "base_numbering": 1,
   "nav_menu": {},
   "number_sections": true,
   "sideBar": true,
   "skip_h1_title": false,
   "title_cell": "Table of Contents",
   "title_sidebar": "Contents",
   "toc_cell": false,
   "toc_position": {},
   "toc_section_display": true,
   "toc_window_display": false
  }
 },
 "nbformat": 4,
 "nbformat_minor": 2
}
